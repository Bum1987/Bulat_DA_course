{
 "cells": [
  {
   "cell_type": "markdown",
   "metadata": {
    "toc": true
   },
   "source": [
    "<h1>Table of Contents<span class=\"tocSkip\"></span></h1>\n",
    "<div class=\"toc\"><ul class=\"toc-item\"><li><span><a href=\"#Задание-1.\" data-toc-modified-id=\"Задание-1.-1\"><span class=\"toc-item-num\">1&nbsp;&nbsp;</span>Задание 1.</a></span><ul class=\"toc-item\"><li><ul class=\"toc-item\"><li><span><a href=\"#Что-нужно-сделать?\" data-toc-modified-id=\"Что-нужно-сделать?-1.0.1\"><span class=\"toc-item-num\">1.0.1&nbsp;&nbsp;</span>Что нужно сделать?</a></span></li></ul></li></ul></li><li><span><a href=\"#Задание-2\" data-toc-modified-id=\"Задание-2-2\"><span class=\"toc-item-num\">2&nbsp;&nbsp;</span>Задание 2</a></span></li><li><span><a href=\"#Задание-3\" data-toc-modified-id=\"Задание-3-3\"><span class=\"toc-item-num\">3&nbsp;&nbsp;</span>Задание 3</a></span></li></ul></div>"
   ]
  },
  {
   "cell_type": "markdown",
   "metadata": {},
   "source": [
    "<a target=\"_blank\" href=\"https://colab.research.google.com/github/da-python/new-modul-python/blob/main/Lesson3/hometask/SyntheticRubber.ipynb\">\n",
    "  <img src=\"https://colab.research.google.com/assets/colab-badge.svg\" alt=\"Open In Colab\"/>\n",
    "</a>"
   ]
  },
  {
   "cell_type": "code",
   "execution_count": 60,
   "metadata": {},
   "outputs": [
    {
     "name": "stdout",
     "output_type": "stream",
     "text": [
      "Collecting xlsxwriter\n",
      "  Downloading XlsxWriter-3.0.9-py3-none-any.whl (152 kB)\n",
      "     -------------------------------------- 152.8/152.8 kB 1.0 MB/s eta 0:00:00\n",
      "Installing collected packages: xlsxwriter\n",
      "Successfully installed xlsxwriter-3.0.9\n"
     ]
    }
   ],
   "source": [
    "!pip install xlsxwriter"
   ]
  },
  {
   "cell_type": "code",
   "execution_count": 3,
   "metadata": {},
   "outputs": [
    {
     "name": "stdout",
     "output_type": "stream",
     "text": [
      "Requirement already satisfied: yfinance in c:\\users\\pride\\appdata\\roaming\\python\\python38\\site-packages (0.2.17)\n",
      "Requirement already satisfied: frozendict>=2.3.4 in c:\\users\\pride\\appdata\\roaming\\python\\python38\\site-packages (from yfinance) (2.3.7)\n",
      "Requirement already satisfied: pytz>=2022.5 in c:\\programdata\\anaconda3\\lib\\site-packages (from yfinance) (2023.3)\n",
      "Requirement already satisfied: lxml>=4.9.1 in c:\\users\\pride\\appdata\\roaming\\python\\python38\\site-packages (from yfinance) (4.9.2)\n",
      "Requirement already satisfied: requests>=2.26 in c:\\users\\pride\\appdata\\roaming\\python\\python38\\site-packages (from yfinance) (2.28.2)\n",
      "Requirement already satisfied: beautifulsoup4>=4.11.1 in c:\\users\\pride\\appdata\\roaming\\python\\python38\\site-packages (from yfinance) (4.12.2)\n",
      "Requirement already satisfied: pandas>=1.3.0 in c:\\users\\pride\\appdata\\roaming\\python\\python38\\site-packages (from yfinance) (2.0.0)\n",
      "Requirement already satisfied: cryptography>=3.3.2 in c:\\users\\pride\\appdata\\roaming\\python\\python38\\site-packages (from yfinance) (40.0.1)\n",
      "Requirement already satisfied: html5lib>=1.1 in c:\\programdata\\anaconda3\\lib\\site-packages (from yfinance) (1.1)\n",
      "Requirement already satisfied: appdirs>=1.4.4 in c:\\programdata\\anaconda3\\lib\\site-packages (from yfinance) (1.4.4)\n",
      "Requirement already satisfied: numpy>=1.16.5 in c:\\programdata\\anaconda3\\lib\\site-packages (from yfinance) (1.24.2)\n",
      "Requirement already satisfied: multitasking>=0.0.7 in c:\\programdata\\anaconda3\\lib\\site-packages (from yfinance) (0.0.11)\n",
      "Requirement already satisfied: soupsieve>1.2 in c:\\programdata\\anaconda3\\lib\\site-packages (from beautifulsoup4>=4.11.1->yfinance) (2.0.1)\n",
      "Requirement already satisfied: cffi>=1.12 in c:\\programdata\\anaconda3\\lib\\site-packages (from cryptography>=3.3.2->yfinance) (1.14.0)\n",
      "Requirement already satisfied: webencodings in c:\\programdata\\anaconda3\\lib\\site-packages (from html5lib>=1.1->yfinance) (0.5.1)\n",
      "Requirement already satisfied: six>=1.9 in c:\\programdata\\anaconda3\\lib\\site-packages (from html5lib>=1.1->yfinance) (1.15.0)\n",
      "Requirement already satisfied: python-dateutil>=2.8.2 in c:\\programdata\\anaconda3\\lib\\site-packages (from pandas>=1.3.0->yfinance) (2.8.2)\n",
      "Requirement already satisfied: tzdata>=2022.1 in c:\\programdata\\anaconda3\\lib\\site-packages (from pandas>=1.3.0->yfinance) (2023.2)\n",
      "Requirement already satisfied: idna<4,>=2.5 in c:\\programdata\\anaconda3\\lib\\site-packages (from requests>=2.26->yfinance) (2.10)\n",
      "Requirement already satisfied: charset-normalizer<4,>=2 in c:\\users\\pride\\appdata\\roaming\\python\\python38\\site-packages (from requests>=2.26->yfinance) (3.1.0)\n",
      "Requirement already satisfied: certifi>=2017.4.17 in c:\\programdata\\anaconda3\\lib\\site-packages (from requests>=2.26->yfinance) (2020.6.20)\n",
      "Requirement already satisfied: urllib3<1.27,>=1.21.1 in c:\\programdata\\anaconda3\\lib\\site-packages (from requests>=2.26->yfinance) (1.25.9)\n",
      "Requirement already satisfied: pycparser in c:\\programdata\\anaconda3\\lib\\site-packages (from cffi>=1.12->cryptography>=3.3.2->yfinance) (2.20)\n"
     ]
    }
   ],
   "source": [
    "!pip install yfinance"
   ]
  },
  {
   "cell_type": "code",
   "execution_count": 114,
   "metadata": {},
   "outputs": [],
   "source": [
    "import yfinance as yf\n",
    "import pandas as pd\n",
    "import requests\n",
    "from tqdm.auto import tqdm\n",
    "import time\n",
    "import datetime\n",
    "import matplotlib.pyplot as plt\n",
    "import xlsxwriter\n",
    "import os"
   ]
  },
  {
   "cell_type": "code",
   "execution_count": 3,
   "metadata": {},
   "outputs": [
    {
     "name": "stdout",
     "output_type": "stream",
     "text": [
      "[*********************100%***********************]  1 of 1 completed\n"
     ]
    }
   ],
   "source": [
    "crude_oil_ticker = \"CL=F\"\n",
    "crude_oil = yf.Ticker(crude_oil_ticker)\n",
    "# hist = crude_oil.history()\n",
    "oil_data = yf.download(crude_oil_ticker)"
   ]
  },
  {
   "cell_type": "code",
   "execution_count": 4,
   "metadata": {
    "run_control": {
     "marked": true
    }
   },
   "outputs": [
    {
     "name": "stdout",
     "output_type": "stream",
     "text": [
      "[*********************100%***********************]  1 of 1 completed\n"
     ]
    }
   ],
   "source": [
    "eurusd_ticker = \"EURUSD=X\"\n",
    "eurusd = yf.Ticker(eurusd_ticker)\n",
    "eurusd_data = yf.download(eurusd_ticker)"
   ]
  },
  {
   "cell_type": "code",
   "execution_count": 6,
   "metadata": {
    "scrolled": true
   },
   "outputs": [
    {
     "data": {
      "text/html": [
       "<div>\n",
       "<style scoped>\n",
       "    .dataframe tbody tr th:only-of-type {\n",
       "        vertical-align: middle;\n",
       "    }\n",
       "\n",
       "    .dataframe tbody tr th {\n",
       "        vertical-align: top;\n",
       "    }\n",
       "\n",
       "    .dataframe thead th {\n",
       "        text-align: right;\n",
       "    }\n",
       "</style>\n",
       "<table border=\"1\" class=\"dataframe\">\n",
       "  <thead>\n",
       "    <tr style=\"text-align: right;\">\n",
       "      <th></th>\n",
       "      <th>Oil_price</th>\n",
       "      <th>Euro_rate</th>\n",
       "    </tr>\n",
       "    <tr>\n",
       "      <th>Date</th>\n",
       "      <th></th>\n",
       "      <th></th>\n",
       "    </tr>\n",
       "  </thead>\n",
       "  <tbody>\n",
       "    <tr>\n",
       "      <th>2022-04-11</th>\n",
       "      <td>94.290001</td>\n",
       "      <td>1.088495</td>\n",
       "    </tr>\n",
       "    <tr>\n",
       "      <th>2022-04-12</th>\n",
       "      <td>100.599998</td>\n",
       "      <td>1.087796</td>\n",
       "    </tr>\n",
       "    <tr>\n",
       "      <th>2022-04-13</th>\n",
       "      <td>104.250000</td>\n",
       "      <td>1.082614</td>\n",
       "    </tr>\n",
       "    <tr>\n",
       "      <th>2022-04-14</th>\n",
       "      <td>106.949997</td>\n",
       "      <td>1.089657</td>\n",
       "    </tr>\n",
       "    <tr>\n",
       "      <th>2022-04-15</th>\n",
       "      <td>NaN</td>\n",
       "      <td>1.082099</td>\n",
       "    </tr>\n",
       "    <tr>\n",
       "      <th>...</th>\n",
       "      <td>...</td>\n",
       "      <td>...</td>\n",
       "    </tr>\n",
       "    <tr>\n",
       "      <th>2023-04-05</th>\n",
       "      <td>80.610001</td>\n",
       "      <td>1.096011</td>\n",
       "    </tr>\n",
       "    <tr>\n",
       "      <th>2023-04-06</th>\n",
       "      <td>80.699997</td>\n",
       "      <td>1.090334</td>\n",
       "    </tr>\n",
       "    <tr>\n",
       "      <th>2023-04-07</th>\n",
       "      <td>NaN</td>\n",
       "      <td>1.092013</td>\n",
       "    </tr>\n",
       "    <tr>\n",
       "      <th>2023-04-10</th>\n",
       "      <td>79.739998</td>\n",
       "      <td>1.091358</td>\n",
       "    </tr>\n",
       "    <tr>\n",
       "      <th>2023-04-11</th>\n",
       "      <td>80.389999</td>\n",
       "      <td>1.090394</td>\n",
       "    </tr>\n",
       "  </tbody>\n",
       "</table>\n",
       "<p>262 rows × 2 columns</p>\n",
       "</div>"
      ],
      "text/plain": [
       "             Oil_price  Euro_rate\n",
       "Date                             \n",
       "2022-04-11   94.290001   1.088495\n",
       "2022-04-12  100.599998   1.087796\n",
       "2022-04-13  104.250000   1.082614\n",
       "2022-04-14  106.949997   1.089657\n",
       "2022-04-15         NaN   1.082099\n",
       "...                ...        ...\n",
       "2023-04-05   80.610001   1.096011\n",
       "2023-04-06   80.699997   1.090334\n",
       "2023-04-07         NaN   1.092013\n",
       "2023-04-10   79.739998   1.091358\n",
       "2023-04-11   80.389999   1.090394\n",
       "\n",
       "[262 rows x 2 columns]"
      ]
     },
     "execution_count": 6,
     "metadata": {},
     "output_type": "execute_result"
    }
   ],
   "source": [
    "oil_eurusd_data = pd.concat([oil_data, eurusd_data], axis=1, keys=['Oil_price','Euro_rate'])\n",
    "oil_eurusd_data"
   ]
  },
  {
   "cell_type": "markdown",
   "metadata": {},
   "source": [
    "# Задание 1.\n",
    "\n",
    "* Вы - менеджер по продажам в нефтехимической компании. Вы ведете несколько ключевых клиентов, которые закупают продукты вашей компании. Ваша компания запускает новый продукт - \"Синтетический каучук\" (СК), который по своим свойствам похож на тот, что уже есть на рынке. Ваши клиенты предпочитают формульный подход к ценообразованию. Вам нужно предложить клиентам формулу расчета цены на СК. В зависимости от объемов, которые покупают клиенты, им может быть предложена скидка.\n",
    "\n",
    "\n",
    "* СК производиться из нефти. Один из известных способов производства предполагает, что из 10 баррелей нефти сделают одну тонну СК, а затраты на производство в районе 400 евро."
   ]
  },
  {
   "cell_type": "code",
   "execution_count": 142,
   "metadata": {},
   "outputs": [],
   "source": [
    "# Затраты на производство\n",
    "PCOST = 400 # (EUR)\n",
    "\n",
    "# Надбавка\n",
    "N = 0.4\n",
    "\n",
    "# Расходы на логистику\n",
    "EU_LOGISTIC_COST_EUR = 30 # в Европу в евро\n",
    "CN_LOGISTIC_COST_USD = 130 # в Китай в долларах\n",
    "\n",
    "# * Справочная информация по клиентам(объемы, локации, комментарии) \n",
    "customers = {\n",
    "    'Сonty':{\n",
    "        'location':'EU',\n",
    "        'volumes':200,\n",
    "        'comment':'moving_average'\n",
    "    },\n",
    "    \n",
    "    'Triangle':{\n",
    "        'location':'CN',\n",
    "        'volumes': 30,\n",
    "        'comment': 'monthly'\n",
    "    },\n",
    "    'Stone':{\n",
    "        'location':'EU',\n",
    "        'volumes': 150,\n",
    "        'comment': 'moving_average'\n",
    "    },\n",
    "    'Ant':{\n",
    "        'location':'EU',\n",
    "        'volumes': 70,\n",
    "        'comment': 'monthly'\n",
    "    }\n",
    "}\n",
    "# Скидки\n",
    "discounts = {'99': 0.01, # до 100 тонн 1%\n",
    "             '299': 0.05, #  до 300 тонн 5%\n",
    "             '300': 0.1}   # больше 300 тонн 10%\n"
   ]
  },
  {
   "cell_type": "code",
   "execution_count": 143,
   "metadata": {},
   "outputs": [
    {
     "data": {
      "text/plain": [
       "{'Сonty': {'location': 'EU', 'volumes': 200, 'comment': 'moving_average'},\n",
       " 'Triangle': {'location': 'CN', 'volumes': 30, 'comment': 'monthly'},\n",
       " 'Stone': {'location': 'EU', 'volumes': 150, 'comment': 'moving_average'},\n",
       " 'Ant': {'location': 'EU', 'volumes': 70, 'comment': 'monthly'}}"
      ]
     },
     "execution_count": 143,
     "metadata": {},
     "output_type": "execute_result"
    }
   ],
   "source": [
    "customers"
   ]
  },
  {
   "cell_type": "code",
   "execution_count": 10,
   "metadata": {},
   "outputs": [],
   "source": [
    "def discount_percent(volume: int)->int:\n",
    "    if volume < 0 :\n",
    "        return 0.0\n",
    "    if volume < 99 :\n",
    "        return 0.01\n",
    "    if volume < 299 :\n",
    "        return 0.05\n",
    "    if volume > 300 :\n",
    "        return 0.1\n"
   ]
  },
  {
   "cell_type": "code",
   "execution_count": 144,
   "metadata": {},
   "outputs": [],
   "source": [
    "base_price = oil_eurusd_data.copy()\n",
    "base_price['price'] = base_price.Oil_price*10+ck_data.Euro_rate*PRODUCTION_COST+(PRODUCTION_COST*N)\n",
    "base_price.to_csv(r'C:\\Users\\pride\\1.csv')"
   ]
  },
  {
   "cell_type": "code",
   "execution_count": 145,
   "metadata": {},
   "outputs": [
    {
     "data": {
      "text/html": [
       "<div>\n",
       "<style scoped>\n",
       "    .dataframe tbody tr th:only-of-type {\n",
       "        vertical-align: middle;\n",
       "    }\n",
       "\n",
       "    .dataframe tbody tr th {\n",
       "        vertical-align: top;\n",
       "    }\n",
       "\n",
       "    .dataframe thead th {\n",
       "        text-align: right;\n",
       "    }\n",
       "</style>\n",
       "<table border=\"1\" class=\"dataframe\">\n",
       "  <thead>\n",
       "    <tr style=\"text-align: right;\">\n",
       "      <th></th>\n",
       "      <th>Oil_price</th>\n",
       "      <th>Euro_rate</th>\n",
       "      <th>price</th>\n",
       "    </tr>\n",
       "    <tr>\n",
       "      <th>Date</th>\n",
       "      <th></th>\n",
       "      <th></th>\n",
       "      <th></th>\n",
       "    </tr>\n",
       "  </thead>\n",
       "  <tbody>\n",
       "    <tr>\n",
       "      <th>2022-04-11</th>\n",
       "      <td>94.290001</td>\n",
       "      <td>1.088495</td>\n",
       "      <td>1538.297873</td>\n",
       "    </tr>\n",
       "    <tr>\n",
       "      <th>2022-04-12</th>\n",
       "      <td>100.599998</td>\n",
       "      <td>1.087796</td>\n",
       "      <td>1601.118374</td>\n",
       "    </tr>\n",
       "    <tr>\n",
       "      <th>2022-04-13</th>\n",
       "      <td>104.250000</td>\n",
       "      <td>1.082614</td>\n",
       "      <td>1635.545721</td>\n",
       "    </tr>\n",
       "    <tr>\n",
       "      <th>2022-04-14</th>\n",
       "      <td>106.949997</td>\n",
       "      <td>1.089657</td>\n",
       "      <td>1665.362749</td>\n",
       "    </tr>\n",
       "    <tr>\n",
       "      <th>2022-04-15</th>\n",
       "      <td>NaN</td>\n",
       "      <td>1.082099</td>\n",
       "      <td>NaN</td>\n",
       "    </tr>\n",
       "    <tr>\n",
       "      <th>...</th>\n",
       "      <td>...</td>\n",
       "      <td>...</td>\n",
       "      <td>...</td>\n",
       "    </tr>\n",
       "    <tr>\n",
       "      <th>2023-04-05</th>\n",
       "      <td>80.610001</td>\n",
       "      <td>1.096011</td>\n",
       "      <td>1404.504232</td>\n",
       "    </tr>\n",
       "    <tr>\n",
       "      <th>2023-04-06</th>\n",
       "      <td>80.699997</td>\n",
       "      <td>1.090334</td>\n",
       "      <td>1403.133640</td>\n",
       "    </tr>\n",
       "    <tr>\n",
       "      <th>2023-04-07</th>\n",
       "      <td>NaN</td>\n",
       "      <td>1.092013</td>\n",
       "      <td>NaN</td>\n",
       "    </tr>\n",
       "    <tr>\n",
       "      <th>2023-04-10</th>\n",
       "      <td>79.739998</td>\n",
       "      <td>1.091358</td>\n",
       "      <td>1393.943014</td>\n",
       "    </tr>\n",
       "    <tr>\n",
       "      <th>2023-04-11</th>\n",
       "      <td>80.389999</td>\n",
       "      <td>1.090394</td>\n",
       "      <td>1400.057459</td>\n",
       "    </tr>\n",
       "  </tbody>\n",
       "</table>\n",
       "<p>262 rows × 3 columns</p>\n",
       "</div>"
      ],
      "text/plain": [
       "             Oil_price  Euro_rate        price\n",
       "Date                                          \n",
       "2022-04-11   94.290001   1.088495  1538.297873\n",
       "2022-04-12  100.599998   1.087796  1601.118374\n",
       "2022-04-13  104.250000   1.082614  1635.545721\n",
       "2022-04-14  106.949997   1.089657  1665.362749\n",
       "2022-04-15         NaN   1.082099          NaN\n",
       "...                ...        ...          ...\n",
       "2023-04-05   80.610001   1.096011  1404.504232\n",
       "2023-04-06   80.699997   1.090334  1403.133640\n",
       "2023-04-07         NaN   1.092013          NaN\n",
       "2023-04-10   79.739998   1.091358  1393.943014\n",
       "2023-04-11   80.389999   1.090394  1400.057459\n",
       "\n",
       "[262 rows x 3 columns]"
      ]
     },
     "execution_count": 145,
     "metadata": {},
     "output_type": "execute_result"
    }
   ],
   "source": [
    "base_price"
   ]
  },
  {
   "cell_type": "code",
   "execution_count": 146,
   "metadata": {
    "scrolled": true
   },
   "outputs": [
    {
     "data": {
      "text/plain": [
       "<matplotlib.axes._subplots.AxesSubplot at 0x17f34ca93a0>"
      ]
     },
     "execution_count": 146,
     "metadata": {},
     "output_type": "execute_result"
    },
    {
     "data": {
      "image/png": "[encoded data removed]",
      "text/plain": [
       "<Figure size 432x288 with 1 Axes>"
      ]
     },
     "metadata": {
      "needs_background": "light"
     },
     "output_type": "display_data"
    }
   ],
   "source": [
    "base_price.plot(y='price')"
   ]
  },
  {
   "cell_type": "markdown",
   "metadata": {},
   "source": [
    "### Что нужно сделать?\n",
    "\n",
    "1. Определить базовую формулу цены на заводе. То есть как бы выглядела цена на исторических данных. \n",
    "* Важно, чтобы цена покрывала расходы на производство и при этом была в рынке, то есть на уровне натурального каучука или с небольшим дисконтом, котировки на который можно взять с сайта http://www3.lgm.gov.my/mre/MonthlyPrices.aspx (в центах за килограм). Можно перевести в доллары за тонну.\n",
    "2. Отобразить на графике.\n",
    "3. Сделать расчет возможной цены по формуле для каждого из клиентов на условиях DDP (цена с доставкой). Записать все в один эксель файл, на разных листах. Каждый лист - название клиента.\n",
    "4. Предложить формулу цены каждому из клиентов на условиях DDP (цена с доставкой).\n",
    "- Создать директорию «для клиентов» и в ней сложить  файлы с расчетами.\n",
    "- Каждый клиент - отдельный файл (любой из docx, xlsx, pptx, pdf)  с именем клиента… \n",
    "\n"
   ]
  },
  {
   "cell_type": "code",
   "execution_count": 131,
   "metadata": {},
   "outputs": [
    {
     "data": {
      "application/vnd.jupyter.widget-view+json": {
       "model_id": "b0ca19ca812d4b59a8dbec5a939ebfce",
       "version_major": 2,
       "version_minor": 0
      },
      "text/plain": [
       "HBox(children=(FloatProgress(value=0.0, max=12.0), HTML(value='')))"
      ]
     },
     "metadata": {},
     "output_type": "display_data"
    },
    {
     "name": "stdout",
     "output_type": "stream",
     "text": [
      "\n"
     ]
    }
   ],
   "source": [
    "url = f\"https://www.lgm.gov.my/webv2api/api/rubberprice/month=01&year=2000\"\n",
    "res = requests.get(url)\n",
    "rj = res.json()\n",
    "df = pd.json_normalize(rj) \n",
    "df = df[0:0] \n",
    "end = datetime.datetime.today().date()\n",
    "start = end-datetime.timedelta(days=365)\n",
    "period_df = pd.date_range(start, end, freq = 'M')\n",
    "period_lst = period_df.to_pydatetime().tolist()\n",
    "for i in tqdm(period_lst):\n",
    "    url = f\"https://www.lgm.gov.my/webv2api/api/rubberprice/month={str(i.month)}&year={str(i.year)}\"\n",
    "    res = requests.get(url)\n",
    "    rj = res.json()\n",
    "    df1 = pd.json_normalize(rj)\n",
    "    df = pd.concat([df, df1], ignore_index=True)\n",
    "    time.sleep(3)"
   ]
  },
  {
   "cell_type": "code",
   "execution_count": 132,
   "metadata": {},
   "outputs": [
    {
     "data": {
      "text/html": [
       "<div>\n",
       "<style scoped>\n",
       "    .dataframe tbody tr th:only-of-type {\n",
       "        vertical-align: middle;\n",
       "    }\n",
       "\n",
       "    .dataframe tbody tr th {\n",
       "        vertical-align: top;\n",
       "    }\n",
       "\n",
       "    .dataframe thead th {\n",
       "        text-align: right;\n",
       "    }\n",
       "</style>\n",
       "<table border=\"1\" class=\"dataframe\">\n",
       "  <thead>\n",
       "    <tr style=\"text-align: right;\">\n",
       "      <th></th>\n",
       "      <th>date</th>\n",
       "      <th>grade</th>\n",
       "      <th>Rubber_Price</th>\n",
       "    </tr>\n",
       "  </thead>\n",
       "  <tbody>\n",
       "    <tr>\n",
       "      <th>0</th>\n",
       "      <td>2022-04-29</td>\n",
       "      <td>SMR CV</td>\n",
       "      <td>2569.5</td>\n",
       "    </tr>\n",
       "    <tr>\n",
       "      <th>1</th>\n",
       "      <td>2022-04-29</td>\n",
       "      <td>SMR L</td>\n",
       "      <td>2546.0</td>\n",
       "    </tr>\n",
       "    <tr>\n",
       "      <th>2</th>\n",
       "      <td>2022-04-29</td>\n",
       "      <td>SMR 5</td>\n",
       "      <td>1652.5</td>\n",
       "    </tr>\n",
       "    <tr>\n",
       "      <th>3</th>\n",
       "      <td>2022-04-29</td>\n",
       "      <td>SMR GP</td>\n",
       "      <td>1645.5</td>\n",
       "    </tr>\n",
       "    <tr>\n",
       "      <th>4</th>\n",
       "      <td>2022-04-29</td>\n",
       "      <td>SMR 10</td>\n",
       "      <td>1629.0</td>\n",
       "    </tr>\n",
       "    <tr>\n",
       "      <th>5</th>\n",
       "      <td>2022-04-29</td>\n",
       "      <td>SMR 20</td>\n",
       "      <td>1624.5</td>\n",
       "    </tr>\n",
       "    <tr>\n",
       "      <th>6</th>\n",
       "      <td>2022-04-29</td>\n",
       "      <td>Latex in Bulk</td>\n",
       "      <td>6495.0</td>\n",
       "    </tr>\n",
       "    <tr>\n",
       "      <th>7</th>\n",
       "      <td>2022-04-28</td>\n",
       "      <td>SMR CV</td>\n",
       "      <td>2551.0</td>\n",
       "    </tr>\n",
       "    <tr>\n",
       "      <th>8</th>\n",
       "      <td>2022-04-28</td>\n",
       "      <td>SMR L</td>\n",
       "      <td>2527.5</td>\n",
       "    </tr>\n",
       "    <tr>\n",
       "      <th>9</th>\n",
       "      <td>2022-04-28</td>\n",
       "      <td>SMR 5</td>\n",
       "      <td>1621.5</td>\n",
       "    </tr>\n",
       "  </tbody>\n",
       "</table>\n",
       "</div>"
      ],
      "text/plain": [
       "         date          grade  Rubber_Price\n",
       "0  2022-04-29         SMR CV        2569.5\n",
       "1  2022-04-29          SMR L        2546.0\n",
       "2  2022-04-29          SMR 5        1652.5\n",
       "3  2022-04-29         SMR GP        1645.5\n",
       "4  2022-04-29         SMR 10        1629.0\n",
       "5  2022-04-29         SMR 20        1624.5\n",
       "6  2022-04-29  Latex in Bulk        6495.0\n",
       "7  2022-04-28         SMR CV        2551.0\n",
       "8  2022-04-28          SMR L        2527.5\n",
       "9  2022-04-28          SMR 5        1621.5"
      ]
     },
     "execution_count": 132,
     "metadata": {},
     "output_type": "execute_result"
    }
   ],
   "source": [
    "dft = df.copy()\n",
    "dft = dft[dft['us'] != '']\n",
    "dft['Rubber_Price'] = dft['us'].apply(lambda i:float(i)*10)\n",
    "dft = dft.drop([ 'masa', 'rm', 'us', 'tone'], axis=1)\n",
    "dft.head(10)"
   ]
  },
  {
   "cell_type": "code",
   "execution_count": 147,
   "metadata": {},
   "outputs": [],
   "source": [
    "df1 = pd.read_csv(r'C:\\Users\\pride\\1.csv')\n",
    "df2 = pd.read_csv(r'C:\\Users\\pride\\2.csv')"
   ]
  },
  {
   "cell_type": "code",
   "execution_count": 148,
   "metadata": {
    "scrolled": false
   },
   "outputs": [
    {
     "data": {
      "text/html": [
       "<div>\n",
       "<style scoped>\n",
       "    .dataframe tbody tr th:only-of-type {\n",
       "        vertical-align: middle;\n",
       "    }\n",
       "\n",
       "    .dataframe tbody tr th {\n",
       "        vertical-align: top;\n",
       "    }\n",
       "\n",
       "    .dataframe thead th {\n",
       "        text-align: right;\n",
       "    }\n",
       "</style>\n",
       "<table border=\"1\" class=\"dataframe\">\n",
       "  <thead>\n",
       "    <tr style=\"text-align: right;\">\n",
       "      <th></th>\n",
       "      <th>Date</th>\n",
       "      <th>Oil_price</th>\n",
       "      <th>Euro_rate</th>\n",
       "      <th>price</th>\n",
       "    </tr>\n",
       "  </thead>\n",
       "  <tbody>\n",
       "    <tr>\n",
       "      <th>0</th>\n",
       "      <td>2022-04-11</td>\n",
       "      <td>94.290001</td>\n",
       "      <td>1.088495</td>\n",
       "      <td>1538.297873</td>\n",
       "    </tr>\n",
       "    <tr>\n",
       "      <th>1</th>\n",
       "      <td>2022-04-12</td>\n",
       "      <td>100.599998</td>\n",
       "      <td>1.087796</td>\n",
       "      <td>1601.118374</td>\n",
       "    </tr>\n",
       "    <tr>\n",
       "      <th>2</th>\n",
       "      <td>2022-04-13</td>\n",
       "      <td>104.250000</td>\n",
       "      <td>1.082614</td>\n",
       "      <td>1635.545721</td>\n",
       "    </tr>\n",
       "    <tr>\n",
       "      <th>3</th>\n",
       "      <td>2022-04-14</td>\n",
       "      <td>106.949997</td>\n",
       "      <td>1.089657</td>\n",
       "      <td>1665.362749</td>\n",
       "    </tr>\n",
       "    <tr>\n",
       "      <th>4</th>\n",
       "      <td>2022-04-15</td>\n",
       "      <td>NaN</td>\n",
       "      <td>1.082099</td>\n",
       "      <td>NaN</td>\n",
       "    </tr>\n",
       "  </tbody>\n",
       "</table>\n",
       "</div>"
      ],
      "text/plain": [
       "         Date   Oil_price  Euro_rate        price\n",
       "0  2022-04-11   94.290001   1.088495  1538.297873\n",
       "1  2022-04-12  100.599998   1.087796  1601.118374\n",
       "2  2022-04-13  104.250000   1.082614  1635.545721\n",
       "3  2022-04-14  106.949997   1.089657  1665.362749\n",
       "4  2022-04-15         NaN   1.082099          NaN"
      ]
     },
     "execution_count": 148,
     "metadata": {},
     "output_type": "execute_result"
    }
   ],
   "source": [
    "df1.head()"
   ]
  },
  {
   "cell_type": "code",
   "execution_count": 149,
   "metadata": {},
   "outputs": [
    {
     "data": {
      "text/html": [
       "<div>\n",
       "<style scoped>\n",
       "    .dataframe tbody tr th:only-of-type {\n",
       "        vertical-align: middle;\n",
       "    }\n",
       "\n",
       "    .dataframe tbody tr th {\n",
       "        vertical-align: top;\n",
       "    }\n",
       "\n",
       "    .dataframe thead th {\n",
       "        text-align: right;\n",
       "    }\n",
       "</style>\n",
       "<table border=\"1\" class=\"dataframe\">\n",
       "  <thead>\n",
       "    <tr style=\"text-align: right;\">\n",
       "      <th></th>\n",
       "      <th>date</th>\n",
       "      <th>Latex in Bulk</th>\n",
       "      <th>SMR 10</th>\n",
       "      <th>SMR 20</th>\n",
       "      <th>SMR 5</th>\n",
       "      <th>SMR CV</th>\n",
       "      <th>SMR GP</th>\n",
       "      <th>SMR L</th>\n",
       "    </tr>\n",
       "  </thead>\n",
       "  <tbody>\n",
       "    <tr>\n",
       "      <th>0</th>\n",
       "      <td>2023-01-03</td>\n",
       "      <td>4725.0</td>\n",
       "      <td>1347.0</td>\n",
       "      <td>1342.0</td>\n",
       "      <td>1370.0</td>\n",
       "      <td>1867.0</td>\n",
       "      <td>1363.0</td>\n",
       "      <td>1844.0</td>\n",
       "    </tr>\n",
       "    <tr>\n",
       "      <th>1</th>\n",
       "      <td>2023-01-04</td>\n",
       "      <td>4725.0</td>\n",
       "      <td>1350.0</td>\n",
       "      <td>1345.5</td>\n",
       "      <td>1373.0</td>\n",
       "      <td>1862.0</td>\n",
       "      <td>1366.0</td>\n",
       "      <td>1839.0</td>\n",
       "    </tr>\n",
       "    <tr>\n",
       "      <th>2</th>\n",
       "      <td>2023-01-05</td>\n",
       "      <td>4725.0</td>\n",
       "      <td>1350.0</td>\n",
       "      <td>1345.5</td>\n",
       "      <td>1373.0</td>\n",
       "      <td>1865.0</td>\n",
       "      <td>1366.0</td>\n",
       "      <td>1842.0</td>\n",
       "    </tr>\n",
       "    <tr>\n",
       "      <th>3</th>\n",
       "      <td>2023-01-06</td>\n",
       "      <td>4710.0</td>\n",
       "      <td>1332.0</td>\n",
       "      <td>1327.5</td>\n",
       "      <td>1355.5</td>\n",
       "      <td>1860.0</td>\n",
       "      <td>1348.5</td>\n",
       "      <td>1837.0</td>\n",
       "    </tr>\n",
       "    <tr>\n",
       "      <th>4</th>\n",
       "      <td>2023-01-09</td>\n",
       "      <td>4710.0</td>\n",
       "      <td>1348.0</td>\n",
       "      <td>1343.5</td>\n",
       "      <td>1371.0</td>\n",
       "      <td>1867.5</td>\n",
       "      <td>1364.5</td>\n",
       "      <td>1844.5</td>\n",
       "    </tr>\n",
       "  </tbody>\n",
       "</table>\n",
       "</div>"
      ],
      "text/plain": [
       "         date  Latex in Bulk  SMR 10  SMR 20   SMR 5  SMR CV  SMR GP   SMR L\n",
       "0  2023-01-03         4725.0  1347.0  1342.0  1370.0  1867.0  1363.0  1844.0\n",
       "1  2023-01-04         4725.0  1350.0  1345.5  1373.0  1862.0  1366.0  1839.0\n",
       "2  2023-01-05         4725.0  1350.0  1345.5  1373.0  1865.0  1366.0  1842.0\n",
       "3  2023-01-06         4710.0  1332.0  1327.5  1355.5  1860.0  1348.5  1837.0\n",
       "4  2023-01-09         4710.0  1348.0  1343.5  1371.0  1867.5  1364.5  1844.5"
      ]
     },
     "execution_count": 149,
     "metadata": {},
     "output_type": "execute_result"
    }
   ],
   "source": [
    "df2.head()"
   ]
  },
  {
   "cell_type": "code",
   "execution_count": 150,
   "metadata": {},
   "outputs": [],
   "source": [
    "df1 = df1.rename(columns={'Date': 'date'})\n",
    "df2 = df2.rename(columns={'date': 'date'})"
   ]
  },
  {
   "cell_type": "code",
   "execution_count": 151,
   "metadata": {},
   "outputs": [
    {
     "name": "stdout",
     "output_type": "stream",
     "text": [
      "Index(['date', 'Oil_price', 'Euro_rate', 'price'], dtype='object')\n",
      "Index(['date', 'Latex in Bulk', 'SMR 10', 'SMR 20', 'SMR 5', 'SMR CV',\n",
      "       'SMR GP', 'SMR L'],\n",
      "      dtype='object')\n"
     ]
    }
   ],
   "source": [
    "print(df1.columns)\n",
    "print(df2.columns)"
   ]
  },
  {
   "cell_type": "code",
   "execution_count": 153,
   "metadata": {},
   "outputs": [],
   "source": [
    "erged_df = pd.merge(df1, df2, on='date', suffixes=('_df1', '_df2'))"
   ]
  },
  {
   "cell_type": "code",
   "execution_count": 154,
   "metadata": {},
   "outputs": [
    {
     "data": {
      "text/html": [
       "<div>\n",
       "<style scoped>\n",
       "    .dataframe tbody tr th:only-of-type {\n",
       "        vertical-align: middle;\n",
       "    }\n",
       "\n",
       "    .dataframe tbody tr th {\n",
       "        vertical-align: top;\n",
       "    }\n",
       "\n",
       "    .dataframe thead th {\n",
       "        text-align: right;\n",
       "    }\n",
       "</style>\n",
       "<table border=\"1\" class=\"dataframe\">\n",
       "  <thead>\n",
       "    <tr style=\"text-align: right;\">\n",
       "      <th></th>\n",
       "      <th>date</th>\n",
       "      <th>Oil_price</th>\n",
       "      <th>Euro_rate</th>\n",
       "      <th>price</th>\n",
       "      <th>Latex in Bulk</th>\n",
       "      <th>SMR 10</th>\n",
       "      <th>SMR 20</th>\n",
       "      <th>SMR 5</th>\n",
       "      <th>SMR CV</th>\n",
       "      <th>SMR GP</th>\n",
       "      <th>SMR L</th>\n",
       "    </tr>\n",
       "  </thead>\n",
       "  <tbody>\n",
       "    <tr>\n",
       "      <th>0</th>\n",
       "      <td>2023-01-03</td>\n",
       "      <td>76.930000</td>\n",
       "      <td>1.067771</td>\n",
       "      <td>1356.408577</td>\n",
       "      <td>4725.0</td>\n",
       "      <td>1347.0</td>\n",
       "      <td>1342.0</td>\n",
       "      <td>1370.0</td>\n",
       "      <td>1867.0</td>\n",
       "      <td>1363.0</td>\n",
       "      <td>1844.0</td>\n",
       "    </tr>\n",
       "    <tr>\n",
       "      <th>1</th>\n",
       "      <td>2023-01-04</td>\n",
       "      <td>72.839996</td>\n",
       "      <td>1.054685</td>\n",
       "      <td>1310.274153</td>\n",
       "      <td>4725.0</td>\n",
       "      <td>1350.0</td>\n",
       "      <td>1345.5</td>\n",
       "      <td>1373.0</td>\n",
       "      <td>1862.0</td>\n",
       "      <td>1366.0</td>\n",
       "      <td>1839.0</td>\n",
       "    </tr>\n",
       "    <tr>\n",
       "      <th>2</th>\n",
       "      <td>2023-01-05</td>\n",
       "      <td>73.669998</td>\n",
       "      <td>1.060637</td>\n",
       "      <td>1320.954590</td>\n",
       "      <td>4725.0</td>\n",
       "      <td>1350.0</td>\n",
       "      <td>1345.5</td>\n",
       "      <td>1373.0</td>\n",
       "      <td>1865.0</td>\n",
       "      <td>1366.0</td>\n",
       "      <td>1842.0</td>\n",
       "    </tr>\n",
       "    <tr>\n",
       "      <th>3</th>\n",
       "      <td>2023-01-06</td>\n",
       "      <td>73.769997</td>\n",
       "      <td>1.052222</td>\n",
       "      <td>1318.588676</td>\n",
       "      <td>4710.0</td>\n",
       "      <td>1332.0</td>\n",
       "      <td>1327.5</td>\n",
       "      <td>1355.5</td>\n",
       "      <td>1860.0</td>\n",
       "      <td>1348.5</td>\n",
       "      <td>1837.0</td>\n",
       "    </tr>\n",
       "    <tr>\n",
       "      <th>4</th>\n",
       "      <td>2023-01-09</td>\n",
       "      <td>74.629997</td>\n",
       "      <td>1.065632</td>\n",
       "      <td>1332.552910</td>\n",
       "      <td>4710.0</td>\n",
       "      <td>1348.0</td>\n",
       "      <td>1343.5</td>\n",
       "      <td>1371.0</td>\n",
       "      <td>1867.5</td>\n",
       "      <td>1364.5</td>\n",
       "      <td>1844.5</td>\n",
       "    </tr>\n",
       "  </tbody>\n",
       "</table>\n",
       "</div>"
      ],
      "text/plain": [
       "         date  Oil_price  Euro_rate        price  Latex in Bulk  SMR 10   \n",
       "0  2023-01-03  76.930000   1.067771  1356.408577         4725.0  1347.0  \\\n",
       "1  2023-01-04  72.839996   1.054685  1310.274153         4725.0  1350.0   \n",
       "2  2023-01-05  73.669998   1.060637  1320.954590         4725.0  1350.0   \n",
       "3  2023-01-06  73.769997   1.052222  1318.588676         4710.0  1332.0   \n",
       "4  2023-01-09  74.629997   1.065632  1332.552910         4710.0  1348.0   \n",
       "\n",
       "   SMR 20   SMR 5  SMR CV  SMR GP   SMR L  \n",
       "0  1342.0  1370.0  1867.0  1363.0  1844.0  \n",
       "1  1345.5  1373.0  1862.0  1366.0  1839.0  \n",
       "2  1345.5  1373.0  1865.0  1366.0  1842.0  \n",
       "3  1327.5  1355.5  1860.0  1348.5  1837.0  \n",
       "4  1343.5  1371.0  1867.5  1364.5  1844.5  "
      ]
     },
     "execution_count": 154,
     "metadata": {},
     "output_type": "execute_result"
    }
   ],
   "source": [
    "erged_df.head()"
   ]
  },
  {
   "cell_type": "code",
   "execution_count": 155,
   "metadata": {},
   "outputs": [
    {
     "data": {
      "text/plain": [
       "<matplotlib.axes._subplots.AxesSubplot at 0x17f34d66880>"
      ]
     },
     "execution_count": 155,
     "metadata": {},
     "output_type": "execute_result"
    },
    {
     "data": {
      "image/png": "[encoded data removed]",
      "text/plain": [
       "<Figure size 720x360 with 1 Axes>"
      ]
     },
     "metadata": {
      "needs_background": "light"
     },
     "output_type": "display_data"
    }
   ],
   "source": [
    "erged_df.plot(x='date', y=['price', 'SMR 20'], figsize=(10,5))"
   ]
  },
  {
   "cell_type": "markdown",
   "metadata": {},
   "source": [
    "# Задание 2"
   ]
  },
  {
   "cell_type": "markdown",
   "metadata": {},
   "source": [
    "Клиенты согласились на ваше предложение. \n",
    "Вам нужно сделать написать скрипт, с помощью которого можно автоматом рассчитывать цены для всех клиентов одновременно. \n",
    "Важный момент: данные для расчета скрипт должен подтягивать сам."
   ]
  },
  {
   "cell_type": "code",
   "execution_count": 158,
   "metadata": {},
   "outputs": [
    {
     "name": "stdout",
     "output_type": "stream",
     "text": [
      "[*********************100%***********************]  1 of 1 completed\n",
      "[*********************100%***********************]  1 of 1 completed\n"
     ]
    }
   ],
   "source": [
    "crude_oil_ticker = \"CL=F\"\n",
    "crude_oil = yf.Ticker(crude_oil_ticker)\n",
    "oil_data = yf.download(crude_oil_ticker)\n",
    "eurusd_ticker = \"EURUSD=X\"\n",
    "eurusd = yf.Ticker(eurusd_ticker)\n",
    "eurusd_data = yf.download(eurusd_ticker)\n",
    "\n",
    "oil_data = oil_data['Close'].copy()\n",
    "eurusd_data = eurusd_data['Close'].copy()\n",
    "current_day = datetime.datetime.today().date()\n",
    "year_ago_day = current_day-datetime.timedelta(days=365)\n",
    "current_day = datetime.datetime.strftime(current_day, '%Y-%m-%d')\n",
    "year_ago_day = datetime.datetime.strftime(year_ago_day, '%Y-%m-%d')\n",
    "oil_data = oil_data[year_ago_day:current_day].copy()\n",
    "eurusd_data = eurusd_data[year_ago_day:current_day].copy()\n",
    "\n",
    "\n",
    "month_oil_df = pd.concat([oil_data.resample('M').mean(), eurusd_data.resample('M').mean()], axis=1, keys=['Oil_price','Euro_rate'])\n",
    "month_oil_df['CK_price'] = month_oil_df.Oil_price*10+month_oil_df.Euro_rate*PRODUCTION_COST+(PRODUCTION_COST*N)\n",
    "\n",
    "# по клиентам\n",
    "clients_path = 'for_clients'\n",
    "os.makedirs(clients_path, exist_ok=True)\n",
    "\n",
    "for client_name, client_info in customers.items():\n",
    "  client_df = month_oil_df.copy()\n",
    "  \n",
    "  if client_info.get('location') == 'EU':\n",
    "    client_df['logistics'] = EU_LOGISTIC_COST_EUR\n",
    "    client_df['logistics'] = client_df['Euro_rate'] * EU_LOGISTIC_COST_EUR\n",
    "  elif client_info.get('location') == 'CN':\n",
    "    client_df['logistics'] = CN_LOGISTIC_COST_USD\n",
    "  \n",
    "  if client_info.get('volumes'):\n",
    "    client_df['volumes'] = client_info.get('volumes')\n",
    "\n",
    "  client_df['discount'] = client_df['volumes'].apply(discount_percent)\n",
    "  client_df['CK_price_usd'] = client_df['CK_price'] * (1-client_df['discount']) + client_df['logistics']\n",
    "  \n",
    "  client_df['CK_price_usd'].plot(color='red', linestyle=\"dashed\")\n",
    "  plt.title(f\"Client {client_name} CK Price\")\n",
    "  plt.ylabel(\"USD\")\n",
    "  plt.tight_layout()\n",
    "  plt.savefig(f'{client_name}_CK_price.png')\n",
    "  plt.close()\n",
    "\n",
    "  client_df = client_df.round(2)\n",
    "  client_df = client_df.reset_index()\n",
    "  client_df.Date = client_df.Date.dt.strftime('%B %Y')\n",
    "  \n",
    "  max_row, max_col = client_df.shape\n",
    "\n",
    "  xlfilepath = os.path.join(clients_path, f'{client_name}_CK_prices.xlsx')\n",
    "  with pd.ExcelWriter(xlfilepath, engine='xlsxwriter') as writer:\n",
    "    client_df.to_excel(writer, sheet_name=client_name, startrow=1, header=False, index=False)\n",
    "    workbook = writer.book\n",
    "    worksheet = writer.sheets[client_name]\n",
    "    column_settings = [{'header': column} for column in client_df.columns]\n",
    "    worksheet.add_table(0, 0, max_row, max_col - 1, {'columns': column_settings})\n",
    "    worksheet.insert_image(max_row + 3, 1, f'{client_name}_CK_price.png')"
   ]
  },
  {
   "cell_type": "markdown",
   "metadata": {},
   "source": [
    "# Задание 3\n",
    "\n",
    "К вам пришел новый клиент из России. Который использует продукт А и готов регулярно закупать СК для того, чтобы не быть привязанным к одному поставщику. Клиент готов забирать СК с завода самостоятельно.\n",
    "На основе тех данных, которые уже есть предложите цену новому клиенту в рублях. \n",
    "\n"
   ]
  },
  {
   "cell_type": "code",
   "execution_count": 159,
   "metadata": {},
   "outputs": [
    {
     "data": {
      "application/vnd.jupyter.widget-view+json": {
       "model_id": "db73abf057e44b12bd1c6780ed864a1a",
       "version_major": 2,
       "version_minor": 0
      },
      "text/plain": [
       "HBox(children=(FloatProgress(value=0.0, max=365.0), HTML(value='')))"
      ]
     },
     "metadata": {},
     "output_type": "display_data"
    },
    {
     "name": "stdout",
     "output_type": "stream",
     "text": [
      "\n"
     ]
    },
    {
     "data": {
      "text/html": [
       "<div>\n",
       "<style scoped>\n",
       "    .dataframe tbody tr th:only-of-type {\n",
       "        vertical-align: middle;\n",
       "    }\n",
       "\n",
       "    .dataframe tbody tr th {\n",
       "        vertical-align: top;\n",
       "    }\n",
       "\n",
       "    .dataframe thead th {\n",
       "        text-align: right;\n",
       "    }\n",
       "</style>\n",
       "<table border=\"1\" class=\"dataframe\">\n",
       "  <thead>\n",
       "    <tr style=\"text-align: right;\">\n",
       "      <th>CharCode</th>\n",
       "      <th>EUR</th>\n",
       "      <th>USD</th>\n",
       "    </tr>\n",
       "    <tr>\n",
       "      <th>Date</th>\n",
       "      <th></th>\n",
       "      <th></th>\n",
       "    </tr>\n",
       "  </thead>\n",
       "  <tbody>\n",
       "    <tr>\n",
       "      <th>2022-04-30</th>\n",
       "      <td>82.365240</td>\n",
       "      <td>76.412260</td>\n",
       "    </tr>\n",
       "    <tr>\n",
       "      <th>2022-05-31</th>\n",
       "      <td>67.626332</td>\n",
       "      <td>64.776987</td>\n",
       "    </tr>\n",
       "    <tr>\n",
       "      <th>2022-06-30</th>\n",
       "      <td>60.182637</td>\n",
       "      <td>57.269417</td>\n",
       "    </tr>\n",
       "    <tr>\n",
       "      <th>2022-07-31</th>\n",
       "      <td>59.109713</td>\n",
       "      <td>58.151513</td>\n",
       "    </tr>\n",
       "    <tr>\n",
       "      <th>2022-08-31</th>\n",
       "      <td>61.026758</td>\n",
       "      <td>60.352229</td>\n",
       "    </tr>\n",
       "    <tr>\n",
       "      <th>2022-09-30</th>\n",
       "      <td>59.288300</td>\n",
       "      <td>59.800640</td>\n",
       "    </tr>\n",
       "    <tr>\n",
       "      <th>2022-10-31</th>\n",
       "      <td>59.646913</td>\n",
       "      <td>60.906352</td>\n",
       "    </tr>\n",
       "    <tr>\n",
       "      <th>2022-11-30</th>\n",
       "      <td>61.869623</td>\n",
       "      <td>60.878093</td>\n",
       "    </tr>\n",
       "    <tr>\n",
       "      <th>2022-12-31</th>\n",
       "      <td>69.251052</td>\n",
       "      <td>65.439506</td>\n",
       "    </tr>\n",
       "    <tr>\n",
       "      <th>2023-01-31</th>\n",
       "      <td>74.794194</td>\n",
       "      <td>69.232500</td>\n",
       "    </tr>\n",
       "    <tr>\n",
       "      <th>2023-02-28</th>\n",
       "      <td>78.346411</td>\n",
       "      <td>73.028425</td>\n",
       "    </tr>\n",
       "    <tr>\n",
       "      <th>2023-03-31</th>\n",
       "      <td>81.312213</td>\n",
       "      <td>76.085187</td>\n",
       "    </tr>\n",
       "    <tr>\n",
       "      <th>2023-04-30</th>\n",
       "      <td>87.176373</td>\n",
       "      <td>79.853191</td>\n",
       "    </tr>\n",
       "  </tbody>\n",
       "</table>\n",
       "</div>"
      ],
      "text/plain": [
       "CharCode          EUR        USD\n",
       "Date                            \n",
       "2022-04-30  82.365240  76.412260\n",
       "2022-05-31  67.626332  64.776987\n",
       "2022-06-30  60.182637  57.269417\n",
       "2022-07-31  59.109713  58.151513\n",
       "2022-08-31  61.026758  60.352229\n",
       "2022-09-30  59.288300  59.800640\n",
       "2022-10-31  59.646913  60.906352\n",
       "2022-11-30  61.869623  60.878093\n",
       "2022-12-31  69.251052  65.439506\n",
       "2023-01-31  74.794194  69.232500\n",
       "2023-02-28  78.346411  73.028425\n",
       "2023-03-31  81.312213  76.085187\n",
       "2023-04-30  87.176373  79.853191"
      ]
     },
     "execution_count": 159,
     "metadata": {},
     "output_type": "execute_result"
    }
   ],
   "source": [
    "current_day = datetime.datetime.today().date()\n",
    "date_lst = [current_day-datetime.timedelta(days=i) for i in range(365)]\n",
    "date_lst = sorted(date_lst)\n",
    "date = current_day-datetime.timedelta(days=365)\n",
    "fdate=datetime.datetime.strftime(date, '%d-%m-%Y')\n",
    "url = f\"http://www.cbr.ru/scripts/XML_daily.asp?date_req={fdate}\"\n",
    "res = requests.get(url)\n",
    "rj = res.text\n",
    "rate_df = pd.read_xml(rj)\n",
    "rate_df = rate_df[(rate_df['NumCode'] == 840) | (rate_df['NumCode'] == 978)]\n",
    "rate_df['Date'] = date\n",
    "for i in tqdm(date_lst):\n",
    "    fdate=datetime.datetime.strftime(i, '%d-%m-%Y')\n",
    "    url = f\"http://www.cbr.ru/scripts/XML_daily.asp?date_req={fdate}\"\n",
    "    res = requests.get(url)\n",
    "    rj = res.text\n",
    "    df = pd.read_xml(rj)\n",
    "    df = df[(df['NumCode'] == 840) | (df['NumCode'] == 978)]\n",
    "    df['Date'] = i\n",
    "    rate_df = pd.concat([rate_df,df])\n",
    "\n",
    "rate_df['Date'] = rate_df['Date'].astype(\"datetime64[ns]\")\n",
    "rate_df['Value'] = rate_df['Value'].apply(lambda x:float(x.replace(',','.')))\n",
    "rate_df = rate_df.reset_index()\n",
    "rate_df = rate_df.set_index(['Date'])\n",
    "rate_df = rate_df[['CharCode','Value']]\n",
    "rate_df = rate_df.pivot(columns='CharCode',values = 'Value')\n",
    "rate_df = rate_df.resample('M').mean()\n",
    "rate_df"
   ]
  },
  {
   "cell_type": "code",
   "execution_count": 160,
   "metadata": {},
   "outputs": [
    {
     "data": {
      "text/html": [
       "<div>\n",
       "<style scoped>\n",
       "    .dataframe tbody tr th:only-of-type {\n",
       "        vertical-align: middle;\n",
       "    }\n",
       "\n",
       "    .dataframe tbody tr th {\n",
       "        vertical-align: top;\n",
       "    }\n",
       "\n",
       "    .dataframe thead th {\n",
       "        text-align: right;\n",
       "    }\n",
       "</style>\n",
       "<table border=\"1\" class=\"dataframe\">\n",
       "  <thead>\n",
       "    <tr style=\"text-align: right;\">\n",
       "      <th></th>\n",
       "      <th>CK_price_usd</th>\n",
       "      <th>Rate USD</th>\n",
       "      <th>Discount</th>\n",
       "      <th>CK_price_rub</th>\n",
       "    </tr>\n",
       "    <tr>\n",
       "      <th>Date</th>\n",
       "      <th></th>\n",
       "      <th></th>\n",
       "      <th></th>\n",
       "      <th></th>\n",
       "    </tr>\n",
       "  </thead>\n",
       "  <tbody>\n",
       "    <tr>\n",
       "      <th>2022-04-30</th>\n",
       "      <td>1617.949269</td>\n",
       "      <td>76.412260</td>\n",
       "      <td>0.01</td>\n",
       "      <td>122394.848585</td>\n",
       "    </tr>\n",
       "    <tr>\n",
       "      <th>2022-05-31</th>\n",
       "      <td>1675.524189</td>\n",
       "      <td>64.776987</td>\n",
       "      <td>0.01</td>\n",
       "      <td>107450.054687</td>\n",
       "    </tr>\n",
       "    <tr>\n",
       "      <th>2022-06-30</th>\n",
       "      <td>1724.608731</td>\n",
       "      <td>57.269417</td>\n",
       "      <td>0.01</td>\n",
       "      <td>97779.662658</td>\n",
       "    </tr>\n",
       "    <tr>\n",
       "      <th>2022-07-31</th>\n",
       "      <td>1561.648619</td>\n",
       "      <td>58.151513</td>\n",
       "      <td>0.01</td>\n",
       "      <td>89904.107529</td>\n",
       "    </tr>\n",
       "    <tr>\n",
       "      <th>2022-08-31</th>\n",
       "      <td>1479.945681</td>\n",
       "      <td>60.352229</td>\n",
       "      <td>0.01</td>\n",
       "      <td>88424.840463</td>\n",
       "    </tr>\n",
       "    <tr>\n",
       "      <th>2022-09-30</th>\n",
       "      <td>1394.485568</td>\n",
       "      <td>59.800640</td>\n",
       "      <td>0.01</td>\n",
       "      <td>82557.218145</td>\n",
       "    </tr>\n",
       "    <tr>\n",
       "      <th>2022-10-31</th>\n",
       "      <td>1423.897686</td>\n",
       "      <td>60.906352</td>\n",
       "      <td>0.01</td>\n",
       "      <td>85857.168993</td>\n",
       "    </tr>\n",
       "    <tr>\n",
       "      <th>2022-11-30</th>\n",
       "      <td>1411.275922</td>\n",
       "      <td>60.878093</td>\n",
       "      <td>0.01</td>\n",
       "      <td>85056.629450</td>\n",
       "    </tr>\n",
       "    <tr>\n",
       "      <th>2022-12-31</th>\n",
       "      <td>1348.489233</td>\n",
       "      <td>65.439506</td>\n",
       "      <td>0.01</td>\n",
       "      <td>87362.025134</td>\n",
       "    </tr>\n",
       "    <tr>\n",
       "      <th>2023-01-31</th>\n",
       "      <td>1372.991233</td>\n",
       "      <td>69.232500</td>\n",
       "      <td>0.01</td>\n",
       "      <td>94105.059410</td>\n",
       "    </tr>\n",
       "    <tr>\n",
       "      <th>2023-02-28</th>\n",
       "      <td>1357.362547</td>\n",
       "      <td>73.028425</td>\n",
       "      <td>0.01</td>\n",
       "      <td>98134.788457</td>\n",
       "    </tr>\n",
       "    <tr>\n",
       "      <th>2023-03-31</th>\n",
       "      <td>1321.952253</td>\n",
       "      <td>76.085187</td>\n",
       "      <td>0.01</td>\n",
       "      <td>99575.174689</td>\n",
       "    </tr>\n",
       "    <tr>\n",
       "      <th>2023-04-30</th>\n",
       "      <td>1401.839222</td>\n",
       "      <td>79.853191</td>\n",
       "      <td>0.01</td>\n",
       "      <td>110821.921650</td>\n",
       "    </tr>\n",
       "  </tbody>\n",
       "</table>\n",
       "</div>"
      ],
      "text/plain": [
       "            CK_price_usd   Rate USD  Discount   CK_price_rub\n",
       "Date                                                        \n",
       "2022-04-30   1617.949269  76.412260      0.01  122394.848585\n",
       "2022-05-31   1675.524189  64.776987      0.01  107450.054687\n",
       "2022-06-30   1724.608731  57.269417      0.01   97779.662658\n",
       "2022-07-31   1561.648619  58.151513      0.01   89904.107529\n",
       "2022-08-31   1479.945681  60.352229      0.01   88424.840463\n",
       "2022-09-30   1394.485568  59.800640      0.01   82557.218145\n",
       "2022-10-31   1423.897686  60.906352      0.01   85857.168993\n",
       "2022-11-30   1411.275922  60.878093      0.01   85056.629450\n",
       "2022-12-31   1348.489233  65.439506      0.01   87362.025134\n",
       "2023-01-31   1372.991233  69.232500      0.01   94105.059410\n",
       "2023-02-28   1357.362547  73.028425      0.01   98134.788457\n",
       "2023-03-31   1321.952253  76.085187      0.01   99575.174689\n",
       "2023-04-30   1401.839222  79.853191      0.01  110821.921650"
      ]
     },
     "execution_count": 160,
     "metadata": {},
     "output_type": "execute_result"
    }
   ],
   "source": [
    "rus_price_df = pd.merge(month_oil_df, rate_df, how='inner', left_index=True, right_index=True)\n",
    "rus_price_df['Discount'] = discount_percent(0)\n",
    "rus_price_df['CK_price_rub']=rus_price_df['CK_price']*rus_price_df['USD']*(1-discount_percent(0))\n",
    "rus_price_df = rus_price_df[['CK_price','USD','Discount','CK_price_rub']]\n",
    "rus_price_df = rus_price_df.rename(columns={'CK_price':'CK_price_usd','USD':'Rate USD'})\n",
    "rus_price_df"
   ]
  },
  {
   "cell_type": "code",
   "execution_count": 161,
   "metadata": {},
   "outputs": [],
   "source": [
    "xlfilepath = 'CK_offer_rus.xlsx'\n",
    "with pd.ExcelWriter(xlfilepath, engine='xlsxwriter') as writer:    \n",
    "        client_df =  rus_price_df.copy()\n",
    "        client_df['CK_price_rub'].plot(color='red', linestyle=\"dashed\")\n",
    "        plt.title(f\"Client RUS CK Price\")\n",
    "        plt.ylabel(\"RUB\")\n",
    "        plt.tight_layout()\n",
    "        plt.savefig(f'RUS_CK_price.png')\n",
    "        plt.close()\n",
    "\n",
    "        client_df = client_df.round(2)\n",
    "        client_df = client_df.reset_index()\n",
    "        client_df.Date = client_df.Date.dt.strftime('%B %Y')\n",
    "\n",
    "        max_row, max_col = client_df.shape\n",
    "        client_df.to_excel(writer, sheet_name='RUS', startrow=1, header=False, index=False)\n",
    "        workbook = writer.book\n",
    "        worksheet = writer.sheets['RUS']\n",
    "        column_settings = [{'header': column} for column in client_df.columns]\n",
    "        worksheet.add_table(0, 0, max_row, max_col - 1, {'columns': column_settings})\n",
    "        worksheet.insert_image(max_row + 3, 1, f'RUS_CK_price.png')"
   ]
  }
 ],
 "metadata": {
  "kernelspec": {
   "display_name": "Python 3",
   "language": "python",
   "name": "python3"
  },
  "language_info": {
   "codemirror_mode": {
    "name": "ipython",
    "version": 3
   },
   "file_extension": ".py",
   "mimetype": "text/x-python",
   "name": "python",
   "nbconvert_exporter": "python",
   "pygments_lexer": "ipython3",
   "version": "3.8.3"
  },
  "nbTranslate": {
   "displayLangs": [
    "*"
   ],
   "hotkey": "alt-t",
   "langInMainMenu": true,
   "sourceLang": "en",
   "targetLang": "fr",
   "useGoogleTranslate": true
  },
  "toc": {
   "base_numbering": 1,
   "nav_menu": {},
   "number_sections": true,
   "sideBar": true,
   "skip_h1_title": false,
   "title_cell": "Table of Contents",
   "title_sidebar": "Contents",
   "toc_cell": true,
   "toc_position": {
    "height": "calc(100% - 180px)",
    "left": "10px",
    "top": "150px",
    "width": "336px"
   },
   "toc_section_display": true,
   "toc_window_display": true
  }
 },
 "nbformat": 4,
 "nbformat_minor": 2
}
