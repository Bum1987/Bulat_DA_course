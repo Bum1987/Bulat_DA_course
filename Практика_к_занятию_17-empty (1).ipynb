{
 "cells": [
  {
   "cell_type": "markdown",
   "metadata": {
    "id": "pDrecLU-4QjS"
   },
   "source": [
    "# Практика"
   ]
  },
  {
   "cell_type": "code",
   "execution_count": 2,
   "metadata": {
    "id": "a6XFMuQUG6jO"
   },
   "outputs": [
    {
     "name": "stderr",
     "output_type": "stream",
     "text": [
      "C:\\Users\\pride\\AppData\\Roaming\\Python\\Python38\\site-packages\\pandas\\core\\computation\\expressions.py:20: UserWarning: Pandas requires version '2.7.3' or newer of 'numexpr' (version '2.7.1' currently installed).\n",
      "  from pandas.core.computation.check import NUMEXPR_INSTALLED\n"
     ]
    }
   ],
   "source": [
    "import pandas as pd\n",
    "import numpy as np\n",
    "import matplotlib.pyplot as plt\n",
    "import scipy.stats as sts\n",
    "import math\n",
    "%matplotlib inline"
   ]
  },
  {
   "cell_type": "markdown",
   "metadata": {
    "id": "5owLnS0MHJnz"
   },
   "source": [
    "## ЦПТ для различных распределений\n",
    "Возьмите то непрерывное распределение, которое вам больше всего понравится из списка доступных в модуле [scipy.stats](https://docs.scipy.org/doc/scipy/reference/stats.html)."
   ]
  },
  {
   "cell_type": "markdown",
   "metadata": {
    "id": "v1IvIGF9IRgH"
   },
   "source": [
    "### Сгенерируйте примеры из распределения"
   ]
  },
  {
   "cell_type": "code",
   "execution_count": 4,
   "metadata": {},
   "outputs": [],
   "source": [
    "from scipy.stats import laplace\n",
    "loc = 0.0\n",
    "scale = 1.0\n",
    "laplace_dist = laplace(loc=loc, scale=scale)\n",
    "sample_size = 1000\n",
    "sample2 = laplace_dist.rvs(size=sample_size)\n",
    "mean = laplace_dist.mean()\n",
    "median = laplace_dist.median()"
   ]
  },
  {
   "cell_type": "code",
   "execution_count": 5,
   "metadata": {},
   "outputs": [
    {
     "data": {
      "text/plain": [
       "array([-4.39574167e-02,  4.81849642e-01, -1.50796917e-01,  6.94264888e-01,\n",
       "        1.37433510e+00, -2.11055679e-01,  6.96818234e-01,  6.56047186e-01,\n",
       "        2.36784072e+00,  2.63962259e-01, -1.14514606e+00,  9.33464793e-01,\n",
       "       -6.59694854e-01,  1.25482056e+00,  2.42505432e-01,  1.37095087e+00,\n",
       "       -3.99828550e-01, -1.57293191e-01, -1.64453281e+00, -1.82116183e+00,\n",
       "        2.49673978e+00, -4.55518935e-01, -1.88235433e+00,  8.56119981e-01,\n",
       "        3.70972583e-01,  3.77560853e-03, -1.19513382e-01, -1.47086873e-01,\n",
       "       -1.41632505e+00,  2.82542705e-01,  1.75885505e-01, -1.17468471e+00,\n",
       "        4.20793543e-01, -4.99702939e-01,  8.94266020e-01, -1.02143313e+00,\n",
       "       -2.39867562e+00, -9.83669717e-01,  3.31554115e+00, -9.95374717e-01,\n",
       "        1.13992327e+00, -4.30886594e-01, -1.57180258e+00, -1.05671122e-01,\n",
       "       -1.40435840e+00,  1.20381833e-01,  4.14394292e-01,  1.70917598e+00,\n",
       "        1.13718214e+00,  1.46345950e+00,  1.04034615e+00, -2.35333836e+00,\n",
       "        5.01818712e-01,  1.39332517e+00,  1.31236993e+00, -2.19449783e-01,\n",
       "        3.55894630e+00, -8.26495255e-01,  6.34335184e-01,  1.25404013e+00,\n",
       "       -8.35718948e-01, -1.35355985e+00,  3.56881431e-01, -1.77779139e+00,\n",
       "       -1.81971001e-02,  3.29183681e+00,  1.47218738e+00, -5.56861247e-01,\n",
       "       -1.36346002e+00,  1.80006405e+00, -4.48563918e-01, -1.39771367e-01,\n",
       "        2.50509370e+00, -1.14551589e+00, -9.38555772e-01, -9.26080973e-02,\n",
       "       -3.15304569e-02, -9.88100557e-01,  3.53493229e+00, -1.51724546e-01,\n",
       "        4.11938690e-01,  2.42165040e-01,  8.66034468e-01, -2.83574540e-01,\n",
       "        4.32872483e-01,  3.44133993e-02, -1.41755851e+00, -5.64360935e-01,\n",
       "        5.99752457e-02, -2.88987462e-01,  7.55516369e-01, -7.38689038e-01,\n",
       "       -8.19538023e-01, -2.53508344e-02, -5.27546555e-01,  7.41346205e-01,\n",
       "       -9.54223055e-02,  2.84713630e-01,  2.89197710e-01,  5.61510448e-01,\n",
       "        1.16686560e-01,  4.99892730e+00,  8.68277674e-01,  3.56046213e-01,\n",
       "       -1.78314816e-01, -4.66173018e-02, -6.66038193e-01, -2.88179683e-01,\n",
       "       -8.25104932e-01, -2.54402869e-01, -7.02409430e-02,  9.68959001e-01,\n",
       "       -8.67022453e-01, -8.80247602e-01,  2.24620188e+00,  1.97613087e+00,\n",
       "        9.04514823e-01, -1.61784492e+00, -6.81069680e-02,  9.97431181e-01,\n",
       "        9.92918875e-02,  1.67930694e+00, -7.01840028e-01, -1.75470909e-01,\n",
       "       -2.97687133e+00,  8.27395208e-01,  3.36947475e-01,  1.47061381e+00,\n",
       "        1.35478755e-01, -8.69912062e-01,  1.46631277e-01, -1.32523649e+00,\n",
       "        5.62876283e-01, -2.92767176e-01, -1.68535638e-01, -1.66374372e-02,\n",
       "       -1.16920384e-01, -9.98986772e-01,  5.66084960e-01,  2.29073842e+00,\n",
       "        1.01754501e-01,  3.60831403e+00, -6.18628926e-01, -1.14526043e-01,\n",
       "       -1.85162288e-01,  1.05171971e+00, -8.21764594e-01, -2.69150680e+00,\n",
       "        1.68671958e+00, -1.67407254e+00,  8.01529314e-01,  5.23330184e-01,\n",
       "        1.03120322e-01, -2.04654306e+00, -6.67862385e-02,  2.82071109e+00,\n",
       "       -1.53182957e-01, -4.21177926e-01,  1.13792230e-01,  1.04638738e+00,\n",
       "        2.34090342e+00, -8.02867134e-01,  1.29889242e+00, -5.93388722e+00,\n",
       "       -2.41055436e+00,  2.95879115e-01, -1.30075403e-01, -3.99258005e-01,\n",
       "       -4.75151957e-01, -1.94407226e-01, -1.99326157e-01,  4.49971919e-01,\n",
       "       -1.25605734e-01,  2.46432071e-01, -9.38541091e-01,  2.37918423e-01,\n",
       "       -4.05874781e-01,  9.76744671e-02,  1.36588787e-01, -6.95453618e-01,\n",
       "        2.25683230e-01,  2.94395271e-01,  1.11486559e+00, -2.99268625e+00,\n",
       "       -8.90851378e-01,  6.96626568e-01,  1.20144134e+00, -8.75590357e-01,\n",
       "        7.59095767e-01,  2.75256598e+00,  1.16259161e+00,  6.35472840e-02,\n",
       "        2.61140271e-01,  3.12329488e-01,  1.50682194e+00, -1.10316036e+00,\n",
       "        7.72474515e-01,  2.50571708e-01,  5.29893381e-01, -1.49774674e-01,\n",
       "        4.86391557e-01, -1.48093100e-01,  5.30224291e-01,  1.02314988e+00,\n",
       "       -1.41936227e+00, -3.19145651e-01,  1.28717360e+00, -1.19720609e+00,\n",
       "        1.01593930e+00,  1.77787480e+00, -1.07184671e-01,  3.15758031e+00,\n",
       "       -7.93430348e-02, -9.55657222e-01,  5.00036403e-01, -2.91733454e-01,\n",
       "       -1.15797127e-01,  8.06088448e-02,  3.74681755e+00,  5.48928946e-01,\n",
       "        1.51170122e+00, -3.67398978e-01, -3.19345954e-01,  2.70252131e-02,\n",
       "        9.52154431e-01,  1.70745812e+00, -5.41649612e-01,  1.57799921e+00,\n",
       "       -2.53298187e+00, -3.59250114e-01, -3.46644913e-02,  4.87180514e-02,\n",
       "        3.93819268e-03, -1.71209941e-01, -1.66523681e+00,  2.77161795e+00,\n",
       "        3.64056449e-01, -3.08831199e-03, -1.62969807e+00,  1.04875423e+00,\n",
       "       -6.16702060e-01,  3.02565941e-01,  1.33848436e+00,  2.75808759e-01,\n",
       "       -1.53154962e+00, -8.43200067e-01, -8.68024454e-02, -2.43767784e-01,\n",
       "        1.33688075e+00, -6.34682404e-02, -2.47100379e+00, -3.75519792e-01,\n",
       "        2.89303599e+00,  7.07816887e-01,  2.53350370e+00,  7.35371339e-01,\n",
       "        1.33810626e+00, -2.75377944e-01,  2.09150163e-01, -1.94174108e+00,\n",
       "       -8.74253507e-01,  2.84238147e-02, -1.60463573e+00,  1.65347981e+00,\n",
       "       -2.26684413e-01,  9.25232357e-01, -5.76156139e-02,  1.88705306e-01,\n",
       "        1.27574051e+00, -3.06501740e+00, -1.19622756e+00, -7.85159403e-01,\n",
       "       -4.21794805e-01,  8.19162940e-02,  1.59953875e+00, -2.03729189e-01,\n",
       "        6.85847950e-01,  1.00054081e+00, -3.50044084e+00,  4.36241852e+00,\n",
       "        2.12803870e+00, -5.23830569e-01, -6.01945721e-01,  7.85113191e-01,\n",
       "       -1.58952229e-01,  6.94180195e-01,  6.61912189e-01, -3.13183106e-01,\n",
       "       -9.42518929e-01, -5.26402713e-03,  1.26865669e+00,  1.93807613e+00,\n",
       "       -1.99635830e+00,  2.72539452e+00,  3.52028043e-01,  6.12083691e-01,\n",
       "       -1.12326175e+00, -1.36160657e-01,  7.37521511e-01, -1.10042418e+00,\n",
       "        5.57009717e-01, -1.99747803e+00, -2.09706615e+00, -1.36536851e+00,\n",
       "       -1.07312330e+00,  1.83561142e-03,  3.87952060e-01,  5.46358146e-01,\n",
       "       -5.92500262e-01,  9.50802754e-01,  3.90674569e+00, -1.54870152e-01,\n",
       "        8.59592777e-01,  1.27329382e+00, -1.98067262e+00, -3.13529127e+00,\n",
       "        5.88299307e-02,  1.04831699e+00, -2.01119126e+00, -5.73385355e-01,\n",
       "        2.34536022e-02,  8.99325445e-02, -2.27725247e+00,  2.68796348e+00,\n",
       "       -1.79128027e+00,  1.88412639e+00,  3.85848539e-01, -1.31325431e+00,\n",
       "        1.39108656e+00, -1.40732739e+00, -2.44030588e+00,  4.69766955e-01,\n",
       "       -1.41913444e+00,  5.74515812e-01, -6.27386796e-01, -1.74894879e+00,\n",
       "        8.21543393e-02, -4.52896549e-01,  3.61907740e-01, -3.89373992e+00,\n",
       "        2.16815172e+00,  1.03385797e-01,  1.63629507e+00, -2.04076821e-01,\n",
       "        2.36664029e+00, -5.31475293e-01,  1.37657557e-01,  4.06575883e+00,\n",
       "        2.72428258e-01, -6.70182699e-02, -1.60185206e+00, -2.22817792e-01,\n",
       "        1.85584757e+00,  6.31564378e-02, -3.86196798e+00, -5.51445754e-01,\n",
       "       -1.56326686e-01,  1.63984299e+00,  1.98772251e-01, -2.24321690e+00,\n",
       "        4.01074059e-01, -1.40046266e-01,  3.79182400e-01, -3.07972230e-02,\n",
       "        1.60419418e-01,  3.43306268e-01,  2.66002282e+00,  8.18108253e-01,\n",
       "       -1.50278234e-02, -5.92996097e-01, -3.00529965e+00, -1.33765963e+00,\n",
       "        1.41588365e-01, -8.36114899e-02, -1.08089082e+00,  1.34561580e+00,\n",
       "       -7.95176749e-01,  1.35725820e+00,  5.59329271e-02, -4.55396190e-01,\n",
       "       -1.10536519e+00,  9.68940032e-01,  1.02379597e+00, -4.06534193e-01,\n",
       "       -2.01110961e-04,  1.46153888e+00, -1.01250064e+00, -2.79267586e-01,\n",
       "        1.94370517e+00, -8.63452040e-01, -3.36045184e+00,  4.72132112e-01,\n",
       "       -6.16171387e-01,  2.77654163e-01, -5.89678328e-01, -6.21986026e-01,\n",
       "       -1.06393395e+00,  4.06099737e-01, -6.34641703e-01,  2.12831766e-01,\n",
       "       -1.26895258e+00,  2.95318175e-01, -1.92694063e+00, -2.21110295e+00,\n",
       "        1.53756421e+00,  1.86958258e+00,  2.91447151e-01,  3.09226629e+00,\n",
       "        1.14673197e-01, -9.47781254e-01,  5.16030495e-01, -3.85602019e-01,\n",
       "       -1.41705907e+00,  3.53748397e-02, -6.43495668e-02,  1.44546226e+00,\n",
       "        8.21618517e-01,  2.77068457e-01, -2.06886309e-01, -1.90383576e-03,\n",
       "       -1.49631107e+00, -4.65465659e-01, -6.70785062e-02,  3.36296466e-01,\n",
       "       -2.41874689e-01,  2.74733320e-01, -4.05462326e-01,  5.38281346e-01,\n",
       "       -2.29384590e-01, -5.16071887e-01, -5.51235941e-01, -1.52959750e+00,\n",
       "        1.14824580e+00,  3.40765220e-01,  1.26970466e+00, -2.93185676e-01,\n",
       "        7.12408424e-01, -5.06269074e-01,  1.18180544e+00, -2.87203298e-01,\n",
       "       -1.69751570e-01, -2.57467546e-01,  4.49968571e+00,  1.34537918e+00,\n",
       "       -1.53401557e+00, -9.06909970e-01, -5.11177545e-01,  2.42527260e+00,\n",
       "        7.53521035e-01, -6.57186799e-01, -1.60856355e-01,  5.63725896e-01,\n",
       "        1.54751920e-01, -1.62634327e+00,  1.10968125e-01,  7.94070819e-01,\n",
       "       -1.63639912e-01, -3.07319656e-01, -1.89431828e+00,  3.05530619e-01,\n",
       "        2.33460359e-01,  2.76646654e-01,  2.54626466e-01, -8.46259477e-01,\n",
       "       -3.60494116e-01,  1.95756630e-01, -6.45225971e-01, -2.55746395e+00,\n",
       "        9.20986196e-01,  5.86449379e-01, -2.41452671e-01,  6.58691020e-02,\n",
       "       -3.55941386e+00,  5.51718825e-02,  4.36703388e-01,  2.84747461e-01,\n",
       "       -7.04886928e-01, -1.06370283e-01, -1.50974554e-01, -4.94440278e-01,\n",
       "       -3.02412547e-01, -6.53555930e-01,  7.15427647e-01, -9.42976602e-02,\n",
       "       -8.06966464e-01, -1.52857780e-01, -3.76120127e-01, -7.57820824e-01,\n",
       "        1.66479515e+00,  1.33508259e+00, -4.59554455e-01,  4.63586652e-01,\n",
       "        6.60301096e-01,  1.84729196e+00,  7.57210211e-01, -3.15570521e-01,\n",
       "        1.55025912e+00,  5.77301608e-01,  1.89650023e+00, -1.79782495e+00,\n",
       "       -4.68134050e-01,  8.44478763e-01,  2.37798907e+00,  2.69431117e-01,\n",
       "       -2.83129454e-02,  1.92450937e+00, -9.69393403e-01,  1.97263275e+00,\n",
       "        6.66211974e-01,  9.94533075e-01, -1.96516780e+00, -1.69476572e+00,\n",
       "        5.66779934e+00, -1.53130404e+00,  4.18872848e-01,  2.21551905e+00,\n",
       "        6.87317723e-03,  2.16174241e-01, -6.94400151e-01,  9.59564474e-02,\n",
       "        1.71427415e+00, -3.07832808e-01, -2.34596218e+00, -5.47970886e-01,\n",
       "        1.54789724e-01, -3.86835552e-02, -3.10752915e-02,  5.12839162e-01,\n",
       "        1.23864491e+00,  1.09419500e+00,  9.04567189e-01, -1.55776273e+00,\n",
       "       -2.03271642e+00,  1.64861589e+00,  9.24116976e-01,  2.85796350e-01,\n",
       "       -4.02888898e+00,  1.87808293e+00, -8.61157902e-02, -3.96248341e-01,\n",
       "       -1.62082563e+00, -3.13614505e+00, -3.17524562e-01,  5.96519531e+00,\n",
       "        2.87568011e-01, -2.22210681e+00,  4.68010218e-01, -3.87182165e-01,\n",
       "        6.40967333e-01, -2.69470472e+00,  6.33756706e-01, -5.47074644e-01,\n",
       "       -5.93879064e-01, -6.27244153e-01,  1.01763786e+00, -3.20157038e+00,\n",
       "        2.45333093e+00, -2.58064050e-01,  2.12499253e+00, -7.28392057e-01,\n",
       "        1.80951350e-01,  2.65771973e-01, -1.36730657e-01,  7.80172351e-01,\n",
       "        3.86342764e-01, -5.37680428e-01, -5.22522971e-01,  7.74916874e-01,\n",
       "       -2.82788853e+00,  1.49560945e+00,  2.80233093e-01, -8.56992822e-01,\n",
       "       -1.48670555e+00,  1.47259724e+00, -7.69383558e-02,  7.81887252e-01,\n",
       "        1.49963018e-01, -6.28866260e-01,  7.13092272e-01, -1.07018370e+00,\n",
       "       -7.80286396e-01,  1.15655101e+00, -1.53464244e-02,  3.10711397e+00,\n",
       "        5.09786870e-01, -6.12336903e-01, -1.45824337e-01,  1.38111224e+00,\n",
       "       -7.01561976e-02, -2.07690127e-02, -1.41736928e-01,  2.89024101e-01,\n",
       "       -3.25907095e-01, -6.35698758e-01, -1.10737903e-01, -9.93706572e-01,\n",
       "       -3.23222686e-01, -2.20791441e+00, -1.11208409e-01, -7.35941441e-01,\n",
       "       -5.31648070e-02,  1.95873131e+00,  1.02156756e-01, -3.25863081e+00,\n",
       "        6.61983850e-01,  9.47855738e-01, -9.70286009e-01, -3.69527343e-01,\n",
       "       -9.64281450e-02, -2.58479084e-01,  1.92733032e-01,  1.69924507e-01,\n",
       "        1.75692693e+00,  5.16122567e-01, -4.86190390e-01, -1.09356049e+00,\n",
       "        5.40692022e-03,  9.15708674e-01, -3.95020330e-01,  2.60794311e+00,\n",
       "        2.58156803e-02,  8.94500001e-01, -2.45037190e+00, -8.85585893e-01,\n",
       "        8.45904081e-02,  2.63961701e-01, -1.54134893e+00,  9.93713695e-01,\n",
       "       -6.86651937e-01,  1.76239086e-01, -4.64306385e-02, -1.08888077e+00,\n",
       "        1.28099017e-01,  3.31973956e-01, -1.89955247e+00, -1.84382291e+00,\n",
       "        2.88766370e-01, -6.68641607e-01,  8.37298239e-01, -9.73861643e-01,\n",
       "       -1.58473534e-01, -5.14037762e-01, -3.04028231e+00, -1.12379657e-01,\n",
       "       -2.79556508e-01,  3.16962404e-01,  7.61494289e-01,  6.73624496e-02,\n",
       "        7.61076926e-01,  5.85533795e-02, -4.05070212e-02, -1.44111223e+00,\n",
       "        2.17914823e-01, -7.57120490e-01, -4.44858395e+00,  1.73151167e-01,\n",
       "        1.14621827e+00,  1.54954910e-01,  1.11933981e+00, -2.73312279e-01,\n",
       "        2.09464204e-01, -5.58722338e-01,  1.44522132e+00, -1.09067346e+00,\n",
       "       -6.89438254e-01, -2.02253671e+00, -3.21793867e-01, -4.02131425e-01,\n",
       "        2.31545768e+00,  3.04648775e-01,  6.65497104e-01,  4.43591090e-01,\n",
       "        7.43000960e-01,  2.63283606e-01,  2.68672625e+00, -3.62416405e-01,\n",
       "       -9.69402770e-01,  1.20962007e-01,  5.77137476e-01, -3.85406761e-01,\n",
       "       -1.78825505e+00, -8.37955713e-01,  4.33519936e-02,  1.14827597e+00,\n",
       "        2.11417838e+00, -3.75878869e+00,  1.81005351e-01,  1.59535526e+00,\n",
       "        1.50324088e+00,  1.52922369e+00,  1.47082147e-01,  3.58308928e-01,\n",
       "        1.23103760e+00,  1.33892324e+00,  6.79316847e-01,  1.49853558e+00,\n",
       "       -3.91522021e-01,  1.29095909e-01, -4.66682764e-01,  7.78365219e-01,\n",
       "       -6.89039269e-01, -8.29631207e-02,  6.17985138e-01, -3.49505287e+00,\n",
       "        6.51746679e-01, -6.09832852e-01, -2.89418119e+00,  7.10653096e-01,\n",
       "       -1.26844125e-02,  1.59530987e+00, -4.45994997e-01,  5.87304495e-01,\n",
       "        2.34191769e-01, -2.05011131e-01, -5.67700080e-01,  8.27073408e-01,\n",
       "       -1.07030315e+00, -7.15976762e-01, -8.22653313e-02,  1.09019819e+00,\n",
       "       -2.64167246e+00,  1.77130418e-01, -1.14114116e+00,  2.26393555e-01,\n",
       "        2.37608075e-01, -2.14056041e+00, -9.58683313e-02, -2.77881570e-01,\n",
       "       -2.65971911e-01, -4.66588218e-01, -1.43103557e+00,  6.28084460e-02,\n",
       "        6.67780335e-02, -8.08411519e-01, -1.39022027e+00, -7.21383177e-01,\n",
       "       -1.14954599e+00, -3.13699051e-01,  6.79352304e-02,  2.63820753e+00,\n",
       "        1.55606845e+00,  5.26572128e+00,  1.39067769e+00,  2.37834441e-02,\n",
       "       -9.05720916e-02, -1.44402218e+00, -1.45798514e+00,  8.22318457e-02,\n",
       "        2.15484908e-01,  3.66593079e+00,  6.51564424e-01,  1.50643902e+00,\n",
       "        3.67922630e-01, -5.49050872e+00,  3.19158900e+00, -7.35208089e-01,\n",
       "        2.77713974e-02, -3.33720179e-01,  1.83366340e+00, -1.16230493e+00,\n",
       "       -7.40487623e-02, -9.76236276e-01,  2.37335687e+00,  3.94099976e-01,\n",
       "       -9.43843759e-01, -6.04394483e-01, -3.06625015e-01,  2.61701341e+00,\n",
       "       -1.83038307e+00,  2.86670912e+00,  1.89256488e-01,  3.53348601e+00,\n",
       "       -1.47673464e+00,  2.10541176e+00,  2.70527316e+00,  2.54300761e-01,\n",
       "       -1.70177425e+00, -3.40665345e-01,  4.66959402e-01,  1.57314074e+00,\n",
       "       -4.33854723e-01,  4.53585659e+00,  1.18897745e+00, -2.14816590e-01,\n",
       "        1.90763959e-01,  5.57157215e+00,  1.19573420e+00, -1.73715923e+00,\n",
       "        2.05644091e+00, -1.73797183e+00, -1.62073673e+00,  4.57898991e-01,\n",
       "        1.11448075e+00,  2.51853740e-01, -6.84342159e-01, -7.15251715e-01,\n",
       "       -9.23047068e-01, -9.00278745e-01, -8.58280662e-02,  7.49701693e-01,\n",
       "       -1.02893126e+00,  1.61564595e+00, -1.51520047e+00, -2.78036411e+00,\n",
       "       -6.58209850e-01,  1.81060008e+00, -2.78898393e+00,  1.80035544e+00,\n",
       "        5.27321378e-01, -6.24154573e-01,  2.63063980e-01, -1.65186720e-01,\n",
       "       -3.59121577e-01, -1.22141691e+00,  6.15176922e-02,  2.35968794e-01,\n",
       "       -2.96521069e-01,  1.37738109e-01, -2.58250487e+00, -2.42055688e-01,\n",
       "        3.45965858e+00, -2.81164652e-01, -1.20627926e+00,  4.69473542e-01,\n",
       "        5.36279431e+00,  6.43637270e-01,  1.49516827e+00, -1.83249619e-01,\n",
       "        3.41248563e-01,  7.99869556e-01, -2.42667359e+00, -5.68986326e-01,\n",
       "       -5.74119653e-02, -5.79647319e-01,  2.64865348e+00, -3.60624836e-01,\n",
       "       -1.65978167e+00,  5.87099633e-01,  2.79609563e-02,  1.72003121e+00,\n",
       "       -6.51528397e-01,  8.82633886e-01, -1.41853023e+00,  1.29017368e-01,\n",
       "       -7.86854435e-01, -5.92878481e-01,  7.40324222e+00,  4.63768898e-02,\n",
       "        3.75461208e-01,  2.02894974e+00, -3.74276780e-02, -9.28132431e-01,\n",
       "       -7.91762449e-02,  2.93505997e+00,  6.29530298e-01, -9.11726175e-01,\n",
       "       -9.48450639e-01,  4.79622065e-01, -1.66192820e+00, -2.48080097e+00,\n",
       "       -5.24020248e-01, -6.28748234e-01, -5.81693023e-01,  4.82004867e-01,\n",
       "       -1.45923930e+00,  4.81403948e-02,  9.90713507e-01, -5.58809414e-01,\n",
       "       -4.13725820e+00, -1.80715440e+00, -2.53680707e-01, -8.28032435e-01,\n",
       "        2.49518413e+00,  8.84528580e-01, -2.59764358e-02, -1.63527707e+00,\n",
       "        1.58561824e+00, -1.96631974e+00,  9.11070184e-01, -2.21514851e+00,\n",
       "        1.61149680e-01, -1.99227266e-01, -5.00113777e-01,  2.56481020e-01,\n",
       "       -5.91967042e-01, -6.74102263e-01,  1.52233271e-01,  1.13832961e+00,\n",
       "       -1.50865548e+00,  1.52006960e-01, -1.24227742e+00,  9.54766493e-02,\n",
       "       -9.14157581e-01,  1.67901162e+00,  2.37144824e+00, -2.00085877e-01,\n",
       "       -2.53602269e+00,  2.21326886e-01, -9.05797411e-01,  6.02847808e-01,\n",
       "       -1.24798942e+00, -1.23285114e+00, -1.19633294e-01, -2.73742181e-01,\n",
       "        4.00070241e-01, -1.72090716e-01,  8.42053067e-01,  6.14346919e-01,\n",
       "        2.55359320e-02, -8.34889431e-02,  4.49134782e+00,  1.01965203e-01,\n",
       "        2.75685485e-01, -2.90098669e-01,  3.46499800e-02,  9.07914114e-01,\n",
       "        1.31264003e+00, -5.79701771e-02,  3.22856389e-01,  8.95705863e-01,\n",
       "       -1.45007161e+00, -2.34294850e-01,  5.44467974e-01,  2.32428285e+00,\n",
       "        6.14879811e-01,  3.94259008e-01,  9.10141972e-01,  3.50809166e-01,\n",
       "        1.88544456e+00, -1.51303407e+00,  5.15974786e-01, -1.81151127e-01,\n",
       "       -1.40653112e+00, -3.46158693e+00,  4.64727029e-01,  5.96529194e-01,\n",
       "       -8.62266776e-02,  8.15224347e-01,  2.04735832e+00, -6.52803431e-01,\n",
       "        1.71205003e+00, -1.04501243e+00,  8.82664129e-01, -5.23835536e-01,\n",
       "       -1.96198989e+00, -1.39047398e+00,  8.84328969e-02,  1.04663541e-01,\n",
       "       -7.68014499e-01,  1.00531413e+00, -1.06023914e+00,  2.74937754e-01,\n",
       "        9.91186182e-01,  3.78607596e-01,  3.15940720e+00,  4.45261540e+00,\n",
       "       -4.69039357e-01, -1.42212089e+00, -1.33874927e+00,  1.80955364e+00,\n",
       "       -3.24620999e-01,  5.40183625e+00,  6.47177245e-01,  1.18465122e+00,\n",
       "        1.17657452e+00, -9.34430479e-01, -4.76661283e-01, -2.57663198e-01,\n",
       "        3.11984096e-01, -1.71014998e+00, -3.80903346e-01,  2.10151933e-02,\n",
       "        1.77819879e-01,  6.76057074e-01,  6.85542202e-01, -4.57587486e-01,\n",
       "       -3.06741088e-01,  5.23891688e-01,  1.21533293e+00,  1.92101509e+00,\n",
       "       -1.75580307e+00, -1.24438406e+00, -7.27861709e-01, -2.55098457e-02,\n",
       "       -1.43936241e+00,  1.98092591e+00, -1.60424722e+00, -1.55444721e+00,\n",
       "       -3.40346697e-01, -8.64560040e-01, -6.43235766e-01, -3.87812571e-01,\n",
       "       -3.47334330e-02, -4.66134469e-01,  6.40053485e-01,  2.96994061e-01,\n",
       "        1.46735744e+00,  6.01429437e-01, -1.80027820e-01,  6.64694623e-01])"
      ]
     },
     "execution_count": 5,
     "metadata": {},
     "output_type": "execute_result"
    }
   ],
   "source": [
    "sample2"
   ]
  },
  {
   "cell_type": "code",
   "execution_count": 2,
   "metadata": {
    "colab": {
     "base_uri": "https://localhost:8080/",
     "height": 377
    },
    "id": "l4oTC1NSHvl7",
    "outputId": "52df1553-6d91-4452-9ade-e2a62a8d7ff2"
   },
   "outputs": [
    {
     "data": {
      "text/plain": [
       "array([-1.02834494, -0.33140908,  0.84675807, -1.48410103,  1.46801357,\n",
       "        0.25515135, -2.78620429,  0.01409409, -0.86402338,  1.63085059,\n",
       "        0.14789186,  0.32918136, -1.20506893,  0.72441769,  2.16601653,\n",
       "       -0.99917289,  1.32401583,  1.14630432,  0.93299303, -0.1727484 ,\n",
       "        0.26826761, -1.78055893, -0.05051346, -1.5299844 ,  0.26545325,\n",
       "       -0.5143511 , -0.21849353,  0.08600496,  0.8708782 , -1.31548514,\n",
       "       -0.04292097, -1.08143694, -0.02277517, -1.60189578,  0.43228695,\n",
       "        1.86692009, -0.30739811,  0.03250912, -1.50712579,  1.4389055 ,\n",
       "        1.16757517,  0.45415999, -1.17433921, -0.84912116,  0.94083593,\n",
       "       -1.47486819, -0.38521723, -1.07641142,  0.91053491, -1.59825057,\n",
       "       -1.19183108,  0.47077211,  0.53572757,  0.34117901,  1.01720002,\n",
       "       -0.1214508 , -0.39054622,  0.46455123,  0.74210641, -1.4550389 ,\n",
       "       -1.10435288, -0.47172427,  0.99040536,  0.80451348, -0.34145358,\n",
       "       -0.54655455,  2.24329608,  0.85111811, -1.79102432,  1.39790425,\n",
       "        0.35940877,  0.12399841,  0.62264465, -0.37244545, -1.41269845,\n",
       "        0.56666902, -2.68129298, -1.67903356,  1.4851921 , -2.23768523,\n",
       "       -1.54672416, -1.51710349,  2.20293838, -1.34897213,  0.54207271,\n",
       "       -0.06435669,  1.45501372, -0.51626   , -0.14448655,  1.48037108,\n",
       "       -1.0608239 ,  0.43177607,  1.56196686,  1.58888711, -2.26766864,\n",
       "        0.85187394, -1.51644443, -0.88510283,  0.46497878, -0.34447159])"
      ]
     },
     "execution_count": 2,
     "metadata": {},
     "output_type": "execute_result"
    }
   ],
   "source": [
    "# ваш код тут\n",
    "# например вот такое распределение https://docs.scipy.org/doc/scipy/reference/generated/scipy.stats.cosine.html#scipy.stats.cosine\n",
    "cosine_rv = sts.cosine()\n",
    "sample = cosine_rv.rvs(100)\n",
    "sample"
   ]
  },
  {
   "cell_type": "code",
   "execution_count": 3,
   "metadata": {
    "colab": {
     "base_uri": "https://localhost:8080/",
     "height": 35
    },
    "id": "ScsjsI4oXgKR",
    "outputId": "86833794-f43b-436e-a0e4-c3b7483df016"
   },
   "outputs": [
    {
     "data": {
      "text/plain": [
       "dtype('float64')"
      ]
     },
     "execution_count": 3,
     "metadata": {},
     "output_type": "execute_result"
    }
   ],
   "source": [
    "sample.dtype"
   ]
  },
  {
   "cell_type": "code",
   "execution_count": 4,
   "metadata": {
    "id": "pXTNSqAOCYX4"
   },
   "outputs": [],
   "source": [
    "real_mean = cosine_rv.mean() # настоящее среднее случайной величины"
   ]
  },
  {
   "cell_type": "code",
   "execution_count": 5,
   "metadata": {
    "id": "5x4hFKaUCWSY"
   },
   "outputs": [],
   "source": [
    "real_var = cosine_rv.var() # настоящая дисперсия случайной величины"
   ]
  },
  {
   "cell_type": "markdown",
   "metadata": {
    "id": "4bNn15giIX77"
   },
   "source": [
    "### Постройте гистограмму выборки и теоретическую плотность распределения"
   ]
  },
  {
   "cell_type": "code",
   "execution_count": 10,
   "metadata": {},
   "outputs": [
    {
     "data": {
      "image/png": "[encoded data removed]",
      "text/plain": [
       "<Figure size 432x288 with 1 Axes>"
      ]
     },
     "metadata": {
      "needs_background": "light"
     },
     "output_type": "display_data"
    }
   ],
   "source": [
    "import matplotlib.pyplot as plt\n",
    "x = np.linspace(laplace_dist.ppf(0.01), laplace_dist.ppf(0.99), 100)\n",
    "pdf = laplace_dist.pdf(x)\n",
    "plt.hist(sample2, bins=30, density=True, alpha=0.5, label='Гистограма по распределению Лапласа')\n",
    "plt.plot(x, pdf, 'r-', lw=2, label='Т плотность')\n",
    "\n",
    "plt.xlabel('x')\n",
    "plt.ylabel('Density')\n",
    "plt.legend()\n",
    "plt.show()"
   ]
  },
  {
   "cell_type": "code",
   "execution_count": 8,
   "metadata": {},
   "outputs": [
    {
     "name": "stdout",
     "output_type": "stream",
     "text": [
      "0.06334874052601444\n",
      "1.9671903435991462\n"
     ]
    }
   ],
   "source": [
    "sample2_mean = sample2.mean() # выборочное среднее\n",
    "print(sample2_mean)\n",
    "sample2_var = sample2.var() # выборочная дисперсия\n",
    "print(sample2_var)"
   ]
  },
  {
   "cell_type": "code",
   "execution_count": 4,
   "metadata": {
    "colab": {
     "base_uri": "https://localhost:8080/",
     "height": 283
    },
    "id": "CwbvqecvIcXN",
    "outputId": "ace01d5d-2552-499b-bc4f-1eb19166af83"
   },
   "outputs": [
    {
     "data": {
      "text/plain": [
       "<matplotlib.legend.Legend at 0x18b3d17c130>"
      ]
     },
     "execution_count": 4,
     "metadata": {},
     "output_type": "execute_result"
    },
    {
     "data": {
      "image/png": "[encoded data removed]",
      "text/plain": [
       "<Figure size 432x288 with 1 Axes>"
      ]
     },
     "metadata": {
      "needs_background": "light"
     },
     "output_type": "display_data"
    }
   ],
   "source": [
    "plt.hist(sample, density=True)\n",
    "x = np.linspace(-4,4,100)\n",
    "pdf = cosine_rv.pdf(x)\n",
    "plt.plot(x, pdf, label='теоретическая плотность', alpha=0.5)\n",
    "plt.legend()"
   ]
  },
  {
   "cell_type": "code",
   "execution_count": null,
   "metadata": {},
   "outputs": [],
   "source": []
  },
  {
   "cell_type": "code",
   "execution_count": 7,
   "metadata": {
    "colab": {
     "base_uri": "https://localhost:8080/",
     "height": 51
    },
    "id": "rKd5XFelBqe7",
    "outputId": "32773b82-a3e9-46a2-b06d-a94d667d4f66"
   },
   "outputs": [
    {
     "name": "stdout",
     "output_type": "stream",
     "text": [
      "-0.11546119496013307\n",
      "1.439874960696174\n"
     ]
    }
   ],
   "source": [
    "sample_mean = sample.mean() # выборочное среднее\n",
    "print(sample_mean)\n",
    "sample_var = sample.var() # выборочная дисперсия\n",
    "print(sample_var)"
   ]
  },
  {
   "cell_type": "markdown",
   "metadata": {
    "id": "qPuHR68NId_Z"
   },
   "source": [
    "### Оценим распределение выборочного среднего для разных объёмов выборок\n",
    "Для этого постройте на одном полотне гистограмму выборочных средних и теоретическое распределение выборочных средних по ЦПТ для разных объёмов выборок.\n",
    "\n",
    "Для теоретического распределение используйте настоящие значения мат ожидания и дисперсии (не приближенные на основе выборки)."
   ]
  },
  {
   "cell_type": "code",
   "execution_count": 1,
   "metadata": {
    "id": "_mB8upK7J58w"
   },
   "outputs": [
    {
     "data": {
      "image/png": "[encoded data removed]",
      "text/plain": [
       "<Figure size 720x576 with 4 Axes>"
      ]
     },
     "metadata": {
      "needs_background": "light"
     },
     "output_type": "display_data"
    }
   ],
   "source": [
    "import numpy as np\n",
    "import matplotlib.pyplot as plt\n",
    "from scipy.stats import laplace, norm\n",
    "\n",
    "loc = 0.0\n",
    "scale = 1.0\n",
    "laplace_dist = laplace(loc=loc, scale=scale)\n",
    "\n",
    "sample_sizes = [10, 50, 100, 500]\n",
    "\n",
    "means = []\n",
    "for sample_size in sample_sizes:\n",
    "    sample_means = []\n",
    "    for i in range(1000):\n",
    "        sample = laplace_dist.rvs(size=sample_size)\n",
    "        sample_mean = np.mean(sample)\n",
    "        sample_means.append(sample_mean)\n",
    "    means.append(sample_means)\n",
    "\n",
    "mu = loc\n",
    "sigma = scale / np.sqrt(np.array(sample_sizes))\n",
    "    \n",
    "fig, axs = plt.subplots(nrows=2, ncols=2, figsize=(10, 8))\n",
    "axs = axs.flatten()\n",
    "for i, ax in enumerate(axs):\n",
    "    ax.hist(means[i], bins=30, density=True, alpha=0.5, label='Выборочные средние')\n",
    "    x = np.linspace(mu - 4*sigma[i], mu + 4*sigma[i], 100)\n",
    "    ax.plot(x, norm.pdf(x, mu, sigma[i]), 'r-', lw=2, label='ЦПТ')\n",
    "    ax.legend()\n",
    "    ax.set_title('Размер выборки: {}'.format(sample_sizes[i]))\n",
    "plt.tight_layout()\n",
    "plt.show()"
   ]
  },
  {
   "cell_type": "markdown",
   "metadata": {
    "id": "TF1onBy_J7sX"
   },
   "source": [
    "Как вы считаете, для выбранного распределения апроксимация распределения выборочного среднего работает хорошо или плохо?\n",
    "**Ваш ответ:**"
   ]
  },
  {
   "cell_type": "code",
   "execution_count": null,
   "metadata": {
    "id": "1BEsK495KIuM"
   },
   "outputs": [],
   "source": [
    "Да"
   ]
  },
  {
   "cell_type": "markdown",
   "metadata": {
    "id": "xEyWxfjSfxGp"
   },
   "source": [
    "## Доверительный интервал на основе ЦПТ\n",
    "Возьмите данные для оттока телеком компании, и постройте доверительные интервалы для среднего значения total day calls, используя центральную предельную теорему в разбиении по колонке churn (ушел/не ушел). \n",
    "\n",
    "Для оценки дисперсии используйте несмещенную оценку (параметр ddof=1).\n",
    "\n",
    "Сделайте оценку с использованием явной формулы для z интервала, а затем с помощью функций \n",
    "`from statsmodels.stats.weightstats import _zconfint_generic`. Сравните результаты.\n",
    "\n",
    "\n",
    "Ссылка на данные: https://drive.google.com/file/d/1X_drKqoarnU2Sz2har7uSCsgyhh8Xtz8/view?usp=sharing"
   ]
  },
  {
   "cell_type": "code",
   "execution_count": 14,
   "metadata": {
    "id": "56V0za8GfxeL"
   },
   "outputs": [
    {
     "data": {
      "text/html": [
       "<div>\n",
       "<style scoped>\n",
       "    .dataframe tbody tr th:only-of-type {\n",
       "        vertical-align: middle;\n",
       "    }\n",
       "\n",
       "    .dataframe tbody tr th {\n",
       "        vertical-align: top;\n",
       "    }\n",
       "\n",
       "    .dataframe thead th {\n",
       "        text-align: right;\n",
       "    }\n",
       "</style>\n",
       "<table border=\"1\" class=\"dataframe\">\n",
       "  <thead>\n",
       "    <tr style=\"text-align: right;\">\n",
       "      <th></th>\n",
       "      <th>state</th>\n",
       "      <th>account length</th>\n",
       "      <th>area code</th>\n",
       "      <th>phone number</th>\n",
       "      <th>international plan</th>\n",
       "      <th>voice mail plan</th>\n",
       "      <th>number vmail messages</th>\n",
       "      <th>total day minutes</th>\n",
       "      <th>total day calls</th>\n",
       "      <th>total day charge</th>\n",
       "      <th>...</th>\n",
       "      <th>total eve calls</th>\n",
       "      <th>total eve charge</th>\n",
       "      <th>total night minutes</th>\n",
       "      <th>total night calls</th>\n",
       "      <th>total night charge</th>\n",
       "      <th>total intl minutes</th>\n",
       "      <th>total intl calls</th>\n",
       "      <th>total intl charge</th>\n",
       "      <th>customer service calls</th>\n",
       "      <th>churn</th>\n",
       "    </tr>\n",
       "  </thead>\n",
       "  <tbody>\n",
       "    <tr>\n",
       "      <th>0</th>\n",
       "      <td>KS</td>\n",
       "      <td>128</td>\n",
       "      <td>415</td>\n",
       "      <td>382-4657</td>\n",
       "      <td>no</td>\n",
       "      <td>yes</td>\n",
       "      <td>25</td>\n",
       "      <td>265.1</td>\n",
       "      <td>110</td>\n",
       "      <td>45.07</td>\n",
       "      <td>...</td>\n",
       "      <td>99</td>\n",
       "      <td>16.78</td>\n",
       "      <td>244.7</td>\n",
       "      <td>91</td>\n",
       "      <td>11.01</td>\n",
       "      <td>10.0</td>\n",
       "      <td>3</td>\n",
       "      <td>2.70</td>\n",
       "      <td>1</td>\n",
       "      <td>False</td>\n",
       "    </tr>\n",
       "    <tr>\n",
       "      <th>1</th>\n",
       "      <td>OH</td>\n",
       "      <td>107</td>\n",
       "      <td>415</td>\n",
       "      <td>371-7191</td>\n",
       "      <td>no</td>\n",
       "      <td>yes</td>\n",
       "      <td>26</td>\n",
       "      <td>161.6</td>\n",
       "      <td>123</td>\n",
       "      <td>27.47</td>\n",
       "      <td>...</td>\n",
       "      <td>103</td>\n",
       "      <td>16.62</td>\n",
       "      <td>254.4</td>\n",
       "      <td>103</td>\n",
       "      <td>11.45</td>\n",
       "      <td>13.7</td>\n",
       "      <td>3</td>\n",
       "      <td>3.70</td>\n",
       "      <td>1</td>\n",
       "      <td>False</td>\n",
       "    </tr>\n",
       "    <tr>\n",
       "      <th>2</th>\n",
       "      <td>NJ</td>\n",
       "      <td>137</td>\n",
       "      <td>415</td>\n",
       "      <td>358-1921</td>\n",
       "      <td>no</td>\n",
       "      <td>no</td>\n",
       "      <td>0</td>\n",
       "      <td>243.4</td>\n",
       "      <td>114</td>\n",
       "      <td>41.38</td>\n",
       "      <td>...</td>\n",
       "      <td>110</td>\n",
       "      <td>10.30</td>\n",
       "      <td>162.6</td>\n",
       "      <td>104</td>\n",
       "      <td>7.32</td>\n",
       "      <td>12.2</td>\n",
       "      <td>5</td>\n",
       "      <td>3.29</td>\n",
       "      <td>0</td>\n",
       "      <td>False</td>\n",
       "    </tr>\n",
       "    <tr>\n",
       "      <th>3</th>\n",
       "      <td>OH</td>\n",
       "      <td>84</td>\n",
       "      <td>408</td>\n",
       "      <td>375-9999</td>\n",
       "      <td>yes</td>\n",
       "      <td>no</td>\n",
       "      <td>0</td>\n",
       "      <td>299.4</td>\n",
       "      <td>71</td>\n",
       "      <td>50.90</td>\n",
       "      <td>...</td>\n",
       "      <td>88</td>\n",
       "      <td>5.26</td>\n",
       "      <td>196.9</td>\n",
       "      <td>89</td>\n",
       "      <td>8.86</td>\n",
       "      <td>6.6</td>\n",
       "      <td>7</td>\n",
       "      <td>1.78</td>\n",
       "      <td>2</td>\n",
       "      <td>False</td>\n",
       "    </tr>\n",
       "    <tr>\n",
       "      <th>4</th>\n",
       "      <td>OK</td>\n",
       "      <td>75</td>\n",
       "      <td>415</td>\n",
       "      <td>330-6626</td>\n",
       "      <td>yes</td>\n",
       "      <td>no</td>\n",
       "      <td>0</td>\n",
       "      <td>166.7</td>\n",
       "      <td>113</td>\n",
       "      <td>28.34</td>\n",
       "      <td>...</td>\n",
       "      <td>122</td>\n",
       "      <td>12.61</td>\n",
       "      <td>186.9</td>\n",
       "      <td>121</td>\n",
       "      <td>8.41</td>\n",
       "      <td>10.1</td>\n",
       "      <td>3</td>\n",
       "      <td>2.73</td>\n",
       "      <td>3</td>\n",
       "      <td>False</td>\n",
       "    </tr>\n",
       "    <tr>\n",
       "      <th>...</th>\n",
       "      <td>...</td>\n",
       "      <td>...</td>\n",
       "      <td>...</td>\n",
       "      <td>...</td>\n",
       "      <td>...</td>\n",
       "      <td>...</td>\n",
       "      <td>...</td>\n",
       "      <td>...</td>\n",
       "      <td>...</td>\n",
       "      <td>...</td>\n",
       "      <td>...</td>\n",
       "      <td>...</td>\n",
       "      <td>...</td>\n",
       "      <td>...</td>\n",
       "      <td>...</td>\n",
       "      <td>...</td>\n",
       "      <td>...</td>\n",
       "      <td>...</td>\n",
       "      <td>...</td>\n",
       "      <td>...</td>\n",
       "      <td>...</td>\n",
       "    </tr>\n",
       "    <tr>\n",
       "      <th>3328</th>\n",
       "      <td>AZ</td>\n",
       "      <td>192</td>\n",
       "      <td>415</td>\n",
       "      <td>414-4276</td>\n",
       "      <td>no</td>\n",
       "      <td>yes</td>\n",
       "      <td>36</td>\n",
       "      <td>156.2</td>\n",
       "      <td>77</td>\n",
       "      <td>26.55</td>\n",
       "      <td>...</td>\n",
       "      <td>126</td>\n",
       "      <td>18.32</td>\n",
       "      <td>279.1</td>\n",
       "      <td>83</td>\n",
       "      <td>12.56</td>\n",
       "      <td>9.9</td>\n",
       "      <td>6</td>\n",
       "      <td>2.67</td>\n",
       "      <td>2</td>\n",
       "      <td>False</td>\n",
       "    </tr>\n",
       "    <tr>\n",
       "      <th>3329</th>\n",
       "      <td>WV</td>\n",
       "      <td>68</td>\n",
       "      <td>415</td>\n",
       "      <td>370-3271</td>\n",
       "      <td>no</td>\n",
       "      <td>no</td>\n",
       "      <td>0</td>\n",
       "      <td>231.1</td>\n",
       "      <td>57</td>\n",
       "      <td>39.29</td>\n",
       "      <td>...</td>\n",
       "      <td>55</td>\n",
       "      <td>13.04</td>\n",
       "      <td>191.3</td>\n",
       "      <td>123</td>\n",
       "      <td>8.61</td>\n",
       "      <td>9.6</td>\n",
       "      <td>4</td>\n",
       "      <td>2.59</td>\n",
       "      <td>3</td>\n",
       "      <td>False</td>\n",
       "    </tr>\n",
       "    <tr>\n",
       "      <th>3330</th>\n",
       "      <td>RI</td>\n",
       "      <td>28</td>\n",
       "      <td>510</td>\n",
       "      <td>328-8230</td>\n",
       "      <td>no</td>\n",
       "      <td>no</td>\n",
       "      <td>0</td>\n",
       "      <td>180.8</td>\n",
       "      <td>109</td>\n",
       "      <td>30.74</td>\n",
       "      <td>...</td>\n",
       "      <td>58</td>\n",
       "      <td>24.55</td>\n",
       "      <td>191.9</td>\n",
       "      <td>91</td>\n",
       "      <td>8.64</td>\n",
       "      <td>14.1</td>\n",
       "      <td>6</td>\n",
       "      <td>3.81</td>\n",
       "      <td>2</td>\n",
       "      <td>False</td>\n",
       "    </tr>\n",
       "    <tr>\n",
       "      <th>3331</th>\n",
       "      <td>CT</td>\n",
       "      <td>184</td>\n",
       "      <td>510</td>\n",
       "      <td>364-6381</td>\n",
       "      <td>yes</td>\n",
       "      <td>no</td>\n",
       "      <td>0</td>\n",
       "      <td>213.8</td>\n",
       "      <td>105</td>\n",
       "      <td>36.35</td>\n",
       "      <td>...</td>\n",
       "      <td>84</td>\n",
       "      <td>13.57</td>\n",
       "      <td>139.2</td>\n",
       "      <td>137</td>\n",
       "      <td>6.26</td>\n",
       "      <td>5.0</td>\n",
       "      <td>10</td>\n",
       "      <td>1.35</td>\n",
       "      <td>2</td>\n",
       "      <td>False</td>\n",
       "    </tr>\n",
       "    <tr>\n",
       "      <th>3332</th>\n",
       "      <td>TN</td>\n",
       "      <td>74</td>\n",
       "      <td>415</td>\n",
       "      <td>400-4344</td>\n",
       "      <td>no</td>\n",
       "      <td>yes</td>\n",
       "      <td>25</td>\n",
       "      <td>234.4</td>\n",
       "      <td>113</td>\n",
       "      <td>39.85</td>\n",
       "      <td>...</td>\n",
       "      <td>82</td>\n",
       "      <td>22.60</td>\n",
       "      <td>241.4</td>\n",
       "      <td>77</td>\n",
       "      <td>10.86</td>\n",
       "      <td>13.7</td>\n",
       "      <td>4</td>\n",
       "      <td>3.70</td>\n",
       "      <td>0</td>\n",
       "      <td>False</td>\n",
       "    </tr>\n",
       "  </tbody>\n",
       "</table>\n",
       "<p>3333 rows × 21 columns</p>\n",
       "</div>"
      ],
      "text/plain": [
       "     state  account length  area code phone number international plan   \n",
       "0       KS             128        415     382-4657                 no  \\\n",
       "1       OH             107        415     371-7191                 no   \n",
       "2       NJ             137        415     358-1921                 no   \n",
       "3       OH              84        408     375-9999                yes   \n",
       "4       OK              75        415     330-6626                yes   \n",
       "...    ...             ...        ...          ...                ...   \n",
       "3328    AZ             192        415     414-4276                 no   \n",
       "3329    WV              68        415     370-3271                 no   \n",
       "3330    RI              28        510     328-8230                 no   \n",
       "3331    CT             184        510     364-6381                yes   \n",
       "3332    TN              74        415     400-4344                 no   \n",
       "\n",
       "     voice mail plan  number vmail messages  total day minutes   \n",
       "0                yes                     25              265.1  \\\n",
       "1                yes                     26              161.6   \n",
       "2                 no                      0              243.4   \n",
       "3                 no                      0              299.4   \n",
       "4                 no                      0              166.7   \n",
       "...              ...                    ...                ...   \n",
       "3328             yes                     36              156.2   \n",
       "3329              no                      0              231.1   \n",
       "3330              no                      0              180.8   \n",
       "3331              no                      0              213.8   \n",
       "3332             yes                     25              234.4   \n",
       "\n",
       "      total day calls  total day charge  ...  total eve calls   \n",
       "0                 110             45.07  ...               99  \\\n",
       "1                 123             27.47  ...              103   \n",
       "2                 114             41.38  ...              110   \n",
       "3                  71             50.90  ...               88   \n",
       "4                 113             28.34  ...              122   \n",
       "...               ...               ...  ...              ...   \n",
       "3328               77             26.55  ...              126   \n",
       "3329               57             39.29  ...               55   \n",
       "3330              109             30.74  ...               58   \n",
       "3331              105             36.35  ...               84   \n",
       "3332              113             39.85  ...               82   \n",
       "\n",
       "      total eve charge  total night minutes  total night calls   \n",
       "0                16.78                244.7                 91  \\\n",
       "1                16.62                254.4                103   \n",
       "2                10.30                162.6                104   \n",
       "3                 5.26                196.9                 89   \n",
       "4                12.61                186.9                121   \n",
       "...                ...                  ...                ...   \n",
       "3328             18.32                279.1                 83   \n",
       "3329             13.04                191.3                123   \n",
       "3330             24.55                191.9                 91   \n",
       "3331             13.57                139.2                137   \n",
       "3332             22.60                241.4                 77   \n",
       "\n",
       "      total night charge  total intl minutes  total intl calls   \n",
       "0                  11.01                10.0                 3  \\\n",
       "1                  11.45                13.7                 3   \n",
       "2                   7.32                12.2                 5   \n",
       "3                   8.86                 6.6                 7   \n",
       "4                   8.41                10.1                 3   \n",
       "...                  ...                 ...               ...   \n",
       "3328               12.56                 9.9                 6   \n",
       "3329                8.61                 9.6                 4   \n",
       "3330                8.64                14.1                 6   \n",
       "3331                6.26                 5.0                10   \n",
       "3332               10.86                13.7                 4   \n",
       "\n",
       "      total intl charge  customer service calls  churn  \n",
       "0                  2.70                       1  False  \n",
       "1                  3.70                       1  False  \n",
       "2                  3.29                       0  False  \n",
       "3                  1.78                       2  False  \n",
       "4                  2.73                       3  False  \n",
       "...                 ...                     ...    ...  \n",
       "3328               2.67                       2  False  \n",
       "3329               2.59                       3  False  \n",
       "3330               3.81                       2  False  \n",
       "3331               1.35                       2  False  \n",
       "3332               3.70                       0  False  \n",
       "\n",
       "[3333 rows x 21 columns]"
      ]
     },
     "metadata": {},
     "output_type": "display_data"
    }
   ],
   "source": [
    "url =\"https://raw.githubusercontent.com/piton1/DA/Lesson_12/telecom_churn.csv\"\n",
    "df=pd.read_csv(url)\n",
    "display(df)"
   ]
  },
  {
   "cell_type": "code",
   "execution_count": 15,
   "metadata": {},
   "outputs": [
    {
     "name": "stdout",
     "output_type": "stream",
     "text": [
      "Доверительный интервал для total day calls (churn=0): (99.55618833318324, 101.01012745629045) (61.47360341697314, 139.09271237250056)\n",
      "Доверительный интервал для total day calls (churn=1): (99.41066229112079, 103.26014516229537) (59.03485888580106, 143.63594856761512)\n"
     ]
    }
   ],
   "source": [
    "import pandas as pd\n",
    "from scipy.stats import norm\n",
    "from statsmodels.stats.weightstats import _zconfint_generic\n",
    "\n",
    "# загрузка данных\n",
    "url = 'https://drive.google.com/file/d/1X_drKqoarnU2Sz2har7uSCsgyhh8Xtz8/view?usp=sharing'\n",
    "file_id = url.split('/')[-2]\n",
    "dwn_url = 'https://drive.google.com/uc?id=' + file_id\n",
    "df = pd.read_csv(dwn_url)\n",
    "\n",
    "\n",
    "churn_0 = df[df['churn'] == 0]\n",
    "churn_1 = df[df['churn'] == 1]\n",
    "\n",
    "\n",
    "mean_0, std_0 = churn_0['total day calls'].mean(), churn_0['total day calls'].std(ddof=1)\n",
    "mean_1, std_1 = churn_1['total day calls'].mean(), churn_1['total day calls'].std(ddof=1)\n",
    "\n",
    "\n",
    "z = norm.ppf(0.975)\n",
    "ci_0_z = (mean_0 - z * std_0 / len(churn_0)**0.5, mean_0 + z * std_0 / len(churn_0)**0.5)\n",
    "ci_1_z = (mean_1 - z * std_1 / len(churn_1)**0.5, mean_1 + z * std_1 / len(churn_1)**0.5)\n",
    "\n",
    "\n",
    "ci_0_sm = _zconfint_generic(churn_0['total day calls'].mean(), churn_0['total day calls'].std(ddof=1),\n",
    "                            alpha=0.05, alternative='two-sided')\n",
    "ci_1_sm = _zconfint_generic(churn_1['total day calls'].mean(), churn_1['total day calls'].std(ddof=1),\n",
    "                            alpha=0.05, alternative='two-sided')\n",
    "\n",
    "print('Доверительный интервал для total day calls (churn=0):', ci_0_z, ci_0_sm)\n",
    "print('Доверительный интервал для total day calls (churn=1):', ci_1_z, ci_1_sm)"
   ]
  }
 ],
 "metadata": {
  "colab": {
   "collapsed_sections": [],
   "name": "Практика к занятию 12.ipynb",
   "provenance": []
  },
  "kernelspec": {
   "display_name": "Python 3",
   "language": "python",
   "name": "python3"
  },
  "language_info": {
   "codemirror_mode": {
    "name": "ipython",
    "version": 3
   },
   "file_extension": ".py",
   "mimetype": "text/x-python",
   "name": "python",
   "nbconvert_exporter": "python",
   "pygments_lexer": "ipython3",
   "version": "3.8.3"
  }
 },
 "nbformat": 4,
 "nbformat_minor": 1
}
