{
 "cells": [
  {
   "cell_type": "markdown",
   "metadata": {
    "id": "pDrecLU-4QjS"
   },
   "source": [
    "# Практика"
   ]
  },
  {
   "cell_type": "markdown",
   "metadata": {
    "id": "gUvTNDlMaV-a"
   },
   "source": [
    "## Определение вероятности. События\n",
    "\n",
    "Требуется сгенерировать необходимые выборки и произвести по ним расчеты"
   ]
  },
  {
   "cell_type": "markdown",
   "metadata": {
    "id": "5V70InEBTgup"
   },
   "source": [
    "### Задача 1\n",
    "Брошено две монеты. Найти вероятность того, что монеты выпали разными сторонами"
   ]
  },
  {
   "cell_type": "code",
   "execution_count": 1,
   "metadata": {
    "id": "88Iw-SL3jYQV"
   },
   "outputs": [
    {
     "data": {
      "text/plain": [
       "0.5"
      ]
     },
     "execution_count": 1,
     "metadata": {},
     "output_type": "execute_result"
    }
   ],
   "source": [
    "import random\n",
    "import numpy as np\n",
    "outcomes = ['O', 'Р']\n",
    "sample = np.random.choice(outcomes, size=(1000000, 2))\n",
    "num_diff = np.sum([1 for result in sample if result[0] != result[1]])\n",
    "P_diff = num_diff / 1000000\n",
    "round(P_diff,1)"
   ]
  },
  {
   "cell_type": "markdown",
   "metadata": {
    "id": "t0XOMos2Tl0e"
   },
   "source": [
    "### Задача 2\n",
    "Брошено три монеты. Описать множество всех элементарных событий. Найти вероятности следующих событий:\n",
    "\n",
    "\n",
    "1.   A = {не выпало ни одного герба}\n",
    "2.   B = {выпало четное число гербов}\n",
    "3.   C = {на третьей монете выпал герб}\n"
   ]
  },
  {
   "cell_type": "code",
   "execution_count": 2,
   "metadata": {
    "id": "o7NjAE9uUo-L"
   },
   "outputs": [
    {
     "name": "stdout",
     "output_type": "stream",
     "text": [
      "А - 0.1\n",
      "B - 0.5\n",
      "C - 0.5\n"
     ]
    }
   ],
   "source": [
    "outcomes = ['О', 'Р']\n",
    "sample = np.random.choice(outcomes, size=(1000, 3))\n",
    "num_heads = np.sum(sample == 'О', axis=1)\n",
    "A = np.sum(num_heads == 0) / 1000\n",
    "B = np.sum(num_heads % 2 == 0) / 1000\n",
    "C = np.sum(sample[:,2] == 'О') / 1000\n",
    "print(\"А -\",round(A,1))\n",
    "print(\"B -\",round(B,1))\n",
    "print(\"C -\",round(C,1))"
   ]
  },
  {
   "cell_type": "markdown",
   "metadata": {},
   "source": [
    "Предлагается также решить задачи: \n",
    "\n",
    "### Задача 3\n",
    "Из двух претендентов E и L на ответственную должность три члена комиссии должны отобрать одного. Каждый член комиссии должен указать либо одного достойного, либо забраковать обоих. Претендент считается выбранным, если он был признана достойным хотя бы двумя членами комиссии.\n",
    "Найти вероятность событий:\n",
    "\n",
    "A = {рекомендован L}, B = {рекомендован E}\n"
   ]
  },
  {
   "cell_type": "code",
   "execution_count": 3,
   "metadata": {},
   "outputs": [
    {
     "name": "stdout",
     "output_type": "stream",
     "text": [
      "A - 0.7\n",
      "B - 0.3\n"
     ]
    }
   ],
   "source": [
    "outcomes = ['E', 'L']\n",
    "sample = np.random.choice(outcomes, size=(1, 3))\n",
    "num_L = np.count_nonzero((sample == 'L').sum(axis=1) >= 2)\n",
    "num_E = np.count_nonzero((sample == 'E').sum(axis=1) >= 2)\n",
    "P_A = (num_L + 1) / (1 + 2)\n",
    "P_B = (num_E + 1) / (1 + 2)\n",
    "print(\"A -\", round(P_A,1))\n",
    "print(\"B -\", round(P_B,1))"
   ]
  },
  {
   "cell_type": "markdown",
   "metadata": {
    "id": "peM38mVfYa5B"
   },
   "source": [
    "### Задача 4\n",
    "Брошено две игральных кости. Описать множество элементарных событий. Найти вероятности событий:\n",
    "\n",
    "A = {вышло две \"шестерки\"}\n",
    "\n",
    "B = {сумма выпавших очков не меньше 11}\n",
    "\n",
    "C = {не выпала ни одна \"шестерка\"}"
   ]
  },
  {
   "cell_type": "code",
   "execution_count": 4,
   "metadata": {},
   "outputs": [
    {
     "name": "stdout",
     "output_type": "stream",
     "text": [
      "A - 0.03\n",
      "B - 0.09\n",
      "C - 0.7\n"
     ]
    }
   ],
   "source": [
    "def roll_dice():\n",
    "    return random.choice([1, 2, 3, 4, 5, 6]), random.choice([1, 2, 3, 4, 5, 6])\n",
    "num_A = 0\n",
    "for i in range(10000):\n",
    "    roll1, roll2 = roll_dice()\n",
    "    if roll1 == 6 and roll2 == 6:\n",
    "        num_A += 1\n",
    "prob_A = num_A / 10000\n",
    "print(\"A -\",  round(prob_A,2))\n",
    "num_B = 0\n",
    "for i in range(10000):\n",
    "    roll1, roll2 = roll_dice()\n",
    "    if roll1 + roll2 >= 11:\n",
    "        num_B += 1\n",
    "prob_B = num_B / 10000\n",
    "print(\"B -\",  round(prob_B,2))\n",
    "num_C = 0\n",
    "for i in range(10000):\n",
    "    roll1, roll2 = roll_dice()\n",
    "    if roll1 != 6 and roll2 != 6:\n",
    "        num_C += 1\n",
    "prob_C = num_C / 10000\n",
    "print(\"C -\", round(prob_C,2))"
   ]
  },
  {
   "cell_type": "markdown",
   "metadata": {
    "id": "f-Bi0p8haclB"
   },
   "source": [
    "## Вероятность суммы событий"
   ]
  },
  {
   "cell_type": "markdown",
   "metadata": {
    "id": "g7A7QlvGTnwZ"
   },
   "source": [
    "### Задача 5\n",
    "Брошены две игральные кости. Найти вероятность события D = {выпала хотя бы одна шестёрка}\n"
   ]
  },
  {
   "cell_type": "code",
   "execution_count": 5,
   "metadata": {
    "id": "vjtTJN-kUp9D"
   },
   "outputs": [
    {
     "name": "stdout",
     "output_type": "stream",
     "text": [
      "D - 0.31\n"
     ]
    }
   ],
   "source": [
    "n = 1000000\n",
    "count_D = 0\n",
    "for i in range(n):\n",
    "    dice1 = random.randint(1, 6)\n",
    "    dice2 = random.randint(1, 6)\n",
    "    if dice1 == 6 or dice2 == 6:\n",
    "        count_D += 1\n",
    "P_D = count_D / n\n",
    "print(\"D -\", round(P_D,2))"
   ]
  },
  {
   "cell_type": "markdown",
   "metadata": {
    "id": "R1bYSzQQbC6I"
   },
   "source": [
    "Предлагается также решить задачи: \n",
    "\n",
    "### Задача 6\n",
    "В телефонном номере три последние цифры стерлись. Считая, что все возможные значения стершихся цифр равновероятны, найти вероятность событий:\n",
    "\n",
    "A = {Стерлись различные цифры},\n",
    "\n",
    "B = {Стерлись одинаковые цифры},\n",
    "\n",
    "C = {Среди стершихся цифр хотя бы две совпадают},\n",
    "\n",
    "D = {Среди стершихся цифр хотя бы две различны}\n"
   ]
  },
  {
   "cell_type": "code",
   "execution_count": 6,
   "metadata": {},
   "outputs": [
    {
     "name": "stdout",
     "output_type": "stream",
     "text": [
      "A- 0.360262\n",
      "B- 0.055015\n",
      "C- 0.584723\n",
      "D- 0.944985\n"
     ]
    }
   ],
   "source": [
    "n = 1000000\n",
    "count_a = 0\n",
    "count_b = 0\n",
    "count_c = 0\n",
    "count_d = 0\n",
    "for i in range(n):\n",
    "    digits = [str(random.randint(0, 9)) for i in range(7)]\n",
    "    number = \"\".join(digits)\n",
    "    digit1 = str(random.randint(0, 9))\n",
    "    digit2 = str(random.randint(0, 9))\n",
    "    if random.random() < 0.5:\n",
    "        digit3 = digit1\n",
    "    else:\n",
    "        digit3 = str(random.randint(0, 9))\n",
    "    number += digit1 + digit2 + digit3\n",
    "    if len(set(number[-3:])) == 3:\n",
    "        count_a += 1\n",
    "    elif len(set(number[-3:])) == 1:\n",
    "        count_b += 1\n",
    "    elif len(set(number[-3:])) >= 2:\n",
    "        count_c += 1\n",
    "    if len(set(number[-3:])) >= 2:\n",
    "        count_d += 1\n",
    "P_A = count_a / n\n",
    "P_B = count_b / n\n",
    "P_C = count_c / n\n",
    "P_D = count_d / n\n",
    "print(\"A-\", P_A)\n",
    "print(\"B-\", P_B)\n",
    "print(\"C-\", P_C)\n",
    "print(\"D-\", P_D)"
   ]
  },
  {
   "cell_type": "markdown",
   "metadata": {
    "id": "RnugkR8BalK_"
   },
   "source": [
    "## Случайные величины"
   ]
  },
  {
   "cell_type": "markdown",
   "metadata": {
    "id": "yLoZDZ17UVsp"
   },
   "source": [
    "### Задача 7\n",
    "В лотерее имеется 10 билетов, из которых один выигрышный. Размер выигрыша 10 ден. ед.; стоимость билета 1 ден ед. Найти закон распределения случайной величины X, равной чистому выигрышу участника лотереи, который вытаскивает билет первым."
   ]
  },
  {
   "cell_type": "code",
   "execution_count": 7,
   "metadata": {
    "id": "oNk432sKUqzT"
   },
   "outputs": [
    {
     "name": "stdout",
     "output_type": "stream",
     "text": [
      "P(X = -1) = 0.9\n",
      "P(X = 9) = 0.1\n"
     ]
    }
   ],
   "source": [
    "p_win = 1/10  \n",
    "p_lose = 9/10\n",
    "X = [-1, 9] \n",
    "P = [p_lose, p_win]\n",
    "for i in range(len(X)):\n",
    "    print(\"P(X = {}) = {}\".format(X[i], P[i]))"
   ]
  },
  {
   "cell_type": "markdown",
   "metadata": {
    "id": "U-NK9liSbpvb"
   },
   "source": [
    "Предлагается также решить задачу: \n",
    "\n",
    "### Задача 8\n",
    "Брошены две игральные кости. Найти закон распределения случайной величины $X$, равной сумме выпавших очков. Найти вероятности событий ${X <= 4}$, ${X > 4}$"
   ]
  },
  {
   "cell_type": "code",
   "execution_count": 8,
   "metadata": {},
   "outputs": [
    {
     "name": "stdout",
     "output_type": "stream",
     "text": [
      "Вероятность события X<=4: 0.16551\n",
      "Вероятность события X>4: 0.83449\n"
     ]
    }
   ],
   "source": [
    "dice_sum_counts = {i: 0 for i in range(2, 13)}\n",
    "num_rolls = 100000\n",
    "for i in range(num_rolls):\n",
    "    dice1 = random.randint(1, 6)\n",
    "    dice2 = random.randint(1, 6)\n",
    "    dice_sum = dice1 + dice2\n",
    "    dice_sum_counts[dice_sum] += 1\n",
    "p_x_less_or_equal_4 = sum(dice_sum_counts[i] for i in range(2, 5)) / num_rolls\n",
    "p_x_greater_than_4 = sum(dice_sum_counts[i] for i in range(5, 13)) / num_rolls\n",
    "print(f\"Вероятность события X<=4: {p_x_less_or_equal_4}\")\n",
    "print(f\"Вероятность события X>4: {p_x_greater_than_4}\")"
   ]
  },
  {
   "cell_type": "markdown",
   "metadata": {
    "id": "shgW4D83awjK"
   },
   "source": [
    "## Условные вероятности"
   ]
  },
  {
   "cell_type": "markdown",
   "metadata": {
    "id": "Fbu1RFZwWZrk"
   },
   "source": [
    "### Задача 9\n",
    "Из колоды (36 карт) вынимают последовательно без возвращения две карты. Найти вероятность того, что первой картой была шестерка, а второй — семерка. Найти условную вероятность того же события при условии, что обе карты бубновой масти.\n"
   ]
  },
  {
   "cell_type": "code",
   "execution_count": 9,
   "metadata": {
    "id": "037o56awW9-E"
   },
   "outputs": [
    {
     "name": "stdout",
     "output_type": "stream",
     "text": [
      "Вероятность того, что первой картой была шестерка, а второй — семерка: 0.11348099535138091\n",
      "Условная вероятность того же события при условии, что обе карты бубновой масти: 0.05596572782790994\n"
     ]
    }
   ],
   "source": [
    "deck = ['6C', '6B', '6P', '6K', '7C', '7B', '7P', '7K', '8C', '8B', '8P', '8K', \n",
    "        '9C', '9B', '9P', '9K', '10C', '10B', '10P', '10K', 'JC', 'JB', 'JP', 'JK',\n",
    "        'QC', 'QB', 'QP', 'QK', 'KC', 'KB', 'KP', 'KK', 'AC', 'AB', 'AP', 'AK']\n",
    "num_draws = 100000\n",
    "count_first_card_six = 0\n",
    "count_second_card_seven = 0\n",
    "count_both_cards_bube = 0\n",
    "for i in range(num_draws):\n",
    "    cards_drawn = random.sample(deck, 2) # Выбираем две случайные карты из колоды\n",
    "    if cards_drawn[0][0] == '6':\n",
    "        count_first_card_six += 1\n",
    "        if cards_drawn[1][0] == '7':\n",
    "            count_second_card_seven += 1\n",
    "        if cards_drawn[0][-1] == 'B' and cards_drawn[1][-1] == 'B':\n",
    "            count_both_cards_bube += 1\n",
    "p_first_card_six = count_first_card_six / num_draws\n",
    "p_second_card_seven_given_first_card_six = count_second_card_seven / count_first_card_six\n",
    "p_both_cards_bube = count_both_cards_bube / num_draws\n",
    "p_both_cards_bube_given_first_card_six = count_both_cards_bube / count_first_card_six\n",
    "print(f\"Вероятность того, что первой картой была шестерка, а второй — семерка: {p_second_card_seven_given_first_card_six}\")\n",
    "print(f\"Условная вероятность того же события при условии, что обе карты бубновой масти: {p_both_cards_bube_given_first_card_six}\")"
   ]
  },
  {
   "cell_type": "markdown",
   "metadata": {
    "id": "hNVxtaz5c57b"
   },
   "source": [
    "Предлагается также решить задачу: \n",
    "\n",
    "### Задача 10\n",
    "Из урны, содержащей два белых и три черных шара, последовательно извлекают два шара; вынутые шары не возвращаются. Если первый шар оказался черным, то перед вторым извлечением в урну добавляют белый шар. В противном случае состав оставшихся шаров не меняют. Найти вероятности событий:\n",
    "\n",
    "$A$ = {извлечены два белых шара},\n",
    "\n",
    "$B$ = {извлечены два черных шара}\n",
    "\n",
    "Указание. Пусть событие $C_1$ = {первый шар белый}, событие $C_2$ = {второй шар белый}. Тогда $A = C_1C_2$, $B = \\overline C_1 \\overline C_2$ "
   ]
  },
  {
   "cell_type": "code",
   "execution_count": 27,
   "metadata": {
    "id": "WSLnhk2sdBt_"
   },
   "outputs": [
    {
     "name": "stdout",
     "output_type": "stream",
     "text": [
      "Вероятность события A: 0.36806\n",
      "Вероятность события B: 0.63194\n"
     ]
    }
   ],
   "source": [
    "N = 100000\n",
    "urna = ['B', 'B', 'W', 'W', 'W']\n",
    "count_A = 0\n",
    "count_B = 0\n",
    "for i in range(N):\n",
    "    urna_copy = urna.copy() \n",
    "    if random.choice(urna_copy) == 'B':\n",
    "        urna_copy.append('W')\n",
    "    if random.choice(urna_copy) == 'B':\n",
    "        count_A += 1\n",
    "    else:\n",
    "        count_B += 1\n",
    "prob_A = count_A / N \n",
    "prob_B = count_B / N \n",
    "print(\"Вероятность события A:\", prob_A)\n",
    "print(\"Вероятность события B:\", prob_B)"
   ]
  }
 ],
 "metadata": {
  "colab": {
   "collapsed_sections": [],
   "name": "Практика к занятию 11.ipynb",
   "provenance": []
  },
  "kernelspec": {
   "display_name": "Python 3",
   "language": "python",
   "name": "python3"
  },
  "language_info": {
   "codemirror_mode": {
    "name": "ipython",
    "version": 3
   },
   "file_extension": ".py",
   "mimetype": "text/x-python",
   "name": "python",
   "nbconvert_exporter": "python",
   "pygments_lexer": "ipython3",
   "version": "3.8.3"
  }
 },
 "nbformat": 4,
 "nbformat_minor": 1
}
